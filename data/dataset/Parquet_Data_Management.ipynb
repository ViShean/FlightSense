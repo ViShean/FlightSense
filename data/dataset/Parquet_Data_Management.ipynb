{
 "cells": [
  {
   "cell_type": "code",
   "execution_count": 2,
   "metadata": {},
   "outputs": [
    {
     "name": "stdout",
     "output_type": "stream",
     "text": [
      "Requirement already satisfied: pandas in ./.venv/lib/python3.13/site-packages (2.2.3)\n",
      "Requirement already satisfied: pyarrow in ./.venv/lib/python3.13/site-packages (19.0.1)\n",
      "Requirement already satisfied: numpy>=1.26.0 in ./.venv/lib/python3.13/site-packages (from pandas) (2.2.4)\n",
      "Requirement already satisfied: python-dateutil>=2.8.2 in ./.venv/lib/python3.13/site-packages (from pandas) (2.9.0.post0)\n",
      "Requirement already satisfied: pytz>=2020.1 in ./.venv/lib/python3.13/site-packages (from pandas) (2025.1)\n",
      "Requirement already satisfied: tzdata>=2022.7 in ./.venv/lib/python3.13/site-packages (from pandas) (2025.1)\n",
      "Requirement already satisfied: six>=1.5 in ./.venv/lib/python3.13/site-packages (from python-dateutil>=2.8.2->pandas) (1.17.0)\n",
      "Note: you may need to restart the kernel to use updated packages.\n"
     ]
    }
   ],
   "source": [
    "%pip install pandas pyarrow\n",
    "\n",
    "import pandas as pd\n",
    "import os\n",
    "import pyarrow.parquet as pq\n",
    "import pyarrow as pa\n",
    "\n"
   ]
  },
  {
   "cell_type": "code",
   "execution_count": 11,
   "metadata": {},
   "outputs": [
    {
     "name": "stdout",
     "output_type": "stream",
     "text": [
      "Saved CLEANED_V9.1/chunk_0.parquet (93.30 MB)\n",
      "Saved CLEANED_V9.1/chunk_1.parquet (95.10 MB)\n",
      "Saved CLEANED_V9.1/chunk_2.parquet (93.54 MB)\n"
     ]
    }
   ],
   "source": [
    "# Split Parquet File\n",
    "# ------------------\n",
    "# Pass in a Parquet file to split it into 99MB chunks.\n",
    "\n",
    "def split_parquet(input_file, chunk_size_mb=99):\n",
    "    base_name = os.path.splitext(os.path.basename(input_file))[0]\n",
    "    output_dir = os.path.join(os.path.dirname(input_file), base_name)\n",
    "    os.makedirs(output_dir, exist_ok=True)\n",
    "    \n",
    "    table = pq.read_table(input_file)\n",
    "    total_size = os.path.getsize(input_file)\n",
    "    num_chunks = total_size // (chunk_size_mb * 1024 * 1024) + 1\n",
    "    \n",
    "    row_chunks = len(table) // num_chunks\n",
    "    \n",
    "    for i in range(num_chunks):\n",
    "        start_idx = i * row_chunks\n",
    "        end_idx = (i + 1) * row_chunks if i < num_chunks - 1 else len(table)\n",
    "        chunk_table = table.slice(start_idx, end_idx - start_idx)\n",
    "        chunk_file = os.path.join(output_dir, f'chunk_{i}.parquet')\n",
    "        pq.write_table(chunk_table, chunk_file)\n",
    "        print(f\"Saved {chunk_file} ({os.path.getsize(chunk_file) / (1024 * 1024):.2f} MB)\")\n",
    "\n",
    "# Provide the Parquet file to split\n",
    "input_file = \"CLEANED_V9.1.parquet\"\n",
    "split_parquet(input_file)\n"
   ]
  },
  {
   "cell_type": "code",
   "execution_count": 9,
   "metadata": {},
   "outputs": [
    {
     "name": "stdout",
     "output_type": "stream",
     "text": [
      "Merged file saved as CLEANED_V6.1_merged.parquet\n"
     ]
    }
   ],
   "source": [
    "# Merge Parquet Files\n",
    "# ------------------\n",
    "# Pass in the folder containing the split files to merge them back into a single Parquet file.\n",
    "\n",
    "def merge_parquet(input_folder, output_file):\n",
    "    chunk_files = sorted([os.path.join(input_folder, f) for f in os.listdir(input_folder) if f.endswith('.parquet')])\n",
    "    \n",
    "    dfs = [pd.read_parquet(chunk) for chunk in chunk_files]\n",
    "    merged_df = pd.concat(dfs, ignore_index=True)\n",
    "    merged_df.to_parquet(output_file, index=False)\n",
    "    print(f\"Merged file saved as {output_file}\")\n",
    "\n",
    "# Provide the folder where the chunks are stored\n",
    "input_folder = \"CLEANED_V6.1\"\n",
    "output_merged_file = \"CLEANED_V6.1_merged.parquet\"\n",
    "merge_parquet(input_folder, output_merged_file)\n"
   ]
  }
 ],
 "metadata": {
  "kernelspec": {
   "display_name": ".venv",
   "language": "python",
   "name": "python3"
  },
  "language_info": {
   "codemirror_mode": {
    "name": "ipython",
    "version": 3
   },
   "file_extension": ".py",
   "mimetype": "text/x-python",
   "name": "python",
   "nbconvert_exporter": "python",
   "pygments_lexer": "ipython3",
   "version": "3.13.2"
  }
 },
 "nbformat": 4,
 "nbformat_minor": 2
}

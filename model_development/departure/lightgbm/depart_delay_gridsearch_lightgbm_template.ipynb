{
 "cells": [
  {
   "cell_type": "code",
   "execution_count": 1,
   "metadata": {},
   "outputs": [],
   "source": [
    "import pandas as pd\n",
    "import lightgbm as lgb "
   ]
  },
  {
   "cell_type": "code",
   "execution_count": 2,
   "metadata": {},
   "outputs": [],
   "source": [
    "df = pd.read_parquet('../Data/data_v6.1.parquet') "
   ]
  },
  {
   "cell_type": "code",
   "execution_count": 3,
   "metadata": {},
   "outputs": [
    {
     "data": {
      "text/plain": [
       "Index(['Airline Code', 'Aircraft Registration', 'Operator', 'Type Code',\n",
       "       'Mode S', 'Serial Number', 'Age(years)', 'FROM', 'TO',\n",
       "       'Arrival_Delayed', 'Departure_Status', 'STD_temp_scaled',\n",
       "       'STD_dwpt_scaled', 'STD_rhum_scaled', 'STD_prcp_scaled',\n",
       "       'STD_snow_scaled', 'STD_wdir_scaled', 'STD_wspd_scaled',\n",
       "       'STD_wpgt_scaled', 'STD_pres_scaled', 'STD_tsun_scaled',\n",
       "       'STD_coco_scaled', 'ATD_temp_scaled', 'ATD_dwpt_scaled',\n",
       "       'ATD_rhum_scaled', 'ATD_prcp_scaled', 'ATD_snow_scaled',\n",
       "       'ATD_wdir_scaled', 'ATD_wspd_scaled', 'ATD_wpgt_scaled',\n",
       "       'ATD_pres_scaled', 'ATD_tsun_scaled', 'ATD_coco_scaled',\n",
       "       'STA_temp_scaled', 'STA_dwpt_scaled', 'STA_rhum_scaled',\n",
       "       'STA_prcp_scaled', 'STA_snow_scaled', 'STA_wdir_scaled',\n",
       "       'STA_wspd_scaled', 'STA_wpgt_scaled', 'STA_pres_scaled',\n",
       "       'STA_tsun_scaled', 'STA_coco_scaled', 'ATA_temp_scaled',\n",
       "       'ATA_dwpt_scaled', 'ATA_rhum_scaled', 'ATA_prcp_scaled',\n",
       "       'ATA_snow_scaled', 'ATA_wdir_scaled', 'ATA_wspd_scaled',\n",
       "       'ATA_wpgt_scaled', 'ATA_pres_scaled', 'ATA_tsun_scaled',\n",
       "       'ATA_coco_scaled', 'STD_UTC_time_of_day_cosine',\n",
       "       'STD_UTC_time_of_year_cosine', 'STD_UTC_day_of_year',\n",
       "       'STD_UTC_week_of_year', 'STD_UTC_weekday', 'STD_UTC_hour_of_day',\n",
       "       'STA_UTC_time_of_day_cosine', 'STA_UTC_time_of_year_cosine',\n",
       "       'STA_UTC_day_of_year', 'STA_UTC_week_of_year', 'STA_UTC_weekday',\n",
       "       'STA_UTC_hour_of_day'],\n",
       "      dtype='object')"
      ]
     },
     "execution_count": 3,
     "metadata": {},
     "output_type": "execute_result"
    }
   ],
   "source": [
    "df.columns"
   ]
  },
  {
   "cell_type": "code",
   "execution_count": 4,
   "metadata": {},
   "outputs": [],
   "source": [
    "columns_to_drop = [col for col in df.columns if col.startswith('ATA') or col.startswith('ATD') or col == 'Arrival_Delayed']\n",
    "df.drop(columns=columns_to_drop, inplace=True)"
   ]
  },
  {
   "cell_type": "code",
   "execution_count": 5,
   "metadata": {},
   "outputs": [
    {
     "data": {
      "text/plain": [
       "Airline Code                   category\n",
       "Aircraft Registration          category\n",
       "Operator                       category\n",
       "Type Code                      category\n",
       "Mode S                         category\n",
       "Serial Number                  category\n",
       "Age(years)                      float32\n",
       "FROM                           category\n",
       "TO                             category\n",
       "Departure_Status               category\n",
       "STD_temp_scaled                 float64\n",
       "STD_dwpt_scaled                 float64\n",
       "STD_rhum_scaled                 float64\n",
       "STD_prcp_scaled                 float64\n",
       "STD_snow_scaled                 float64\n",
       "STD_wdir_scaled                 float64\n",
       "STD_wspd_scaled                 float64\n",
       "STD_wpgt_scaled                 float64\n",
       "STD_pres_scaled                 float64\n",
       "STD_tsun_scaled                 float64\n",
       "STD_coco_scaled                 float64\n",
       "STA_temp_scaled                 float64\n",
       "STA_dwpt_scaled                 float64\n",
       "STA_rhum_scaled                 float64\n",
       "STA_prcp_scaled                 float64\n",
       "STA_snow_scaled                 float64\n",
       "STA_wdir_scaled                 float64\n",
       "STA_wspd_scaled                 float64\n",
       "STA_wpgt_scaled                 float64\n",
       "STA_pres_scaled                 float64\n",
       "STA_tsun_scaled                 float64\n",
       "STA_coco_scaled                 float64\n",
       "STD_UTC_time_of_day_cosine      float64\n",
       "STD_UTC_time_of_year_cosine     float64\n",
       "STD_UTC_day_of_year               int64\n",
       "STD_UTC_week_of_year              int64\n",
       "STD_UTC_weekday                   int64\n",
       "STD_UTC_hour_of_day               int64\n",
       "STA_UTC_time_of_day_cosine      float64\n",
       "STA_UTC_time_of_year_cosine     float64\n",
       "STA_UTC_day_of_year             float64\n",
       "STA_UTC_week_of_year            float64\n",
       "STA_UTC_weekday                 float64\n",
       "STA_UTC_hour_of_day             float64\n",
       "dtype: object"
      ]
     },
     "execution_count": 5,
     "metadata": {},
     "output_type": "execute_result"
    }
   ],
   "source": [
    "# all columns of first row \n",
    "pd.set_option('display.max_columns', None) \n",
    "pd.set_option('display.max_rows', None) \n",
    "df.dtypes"
   ]
  },
  {
   "cell_type": "code",
   "execution_count": 16,
   "metadata": {},
   "outputs": [
    {
     "data": {
      "application/vnd.microsoft.datawrangler.viewer.v0+json": {
       "columns": [
        {
         "name": "index",
         "rawType": "int64",
         "type": "integer"
        },
        {
         "name": "Airline Code",
         "rawType": "category",
         "type": "unknown"
        },
        {
         "name": "Aircraft Registration",
         "rawType": "category",
         "type": "unknown"
        },
        {
         "name": "Operator",
         "rawType": "category",
         "type": "unknown"
        },
        {
         "name": "Type Code",
         "rawType": "category",
         "type": "unknown"
        },
        {
         "name": "Mode S",
         "rawType": "category",
         "type": "unknown"
        },
        {
         "name": "Serial Number",
         "rawType": "category",
         "type": "unknown"
        },
        {
         "name": "Age(years)",
         "rawType": "float32",
         "type": "float"
        },
        {
         "name": "FROM",
         "rawType": "category",
         "type": "unknown"
        },
        {
         "name": "TO",
         "rawType": "category",
         "type": "unknown"
        },
        {
         "name": "Departure_Status",
         "rawType": "category",
         "type": "unknown"
        },
        {
         "name": "STD_temp_scaled",
         "rawType": "float64",
         "type": "float"
        },
        {
         "name": "STD_dwpt_scaled",
         "rawType": "float64",
         "type": "float"
        },
        {
         "name": "STD_rhum_scaled",
         "rawType": "float64",
         "type": "float"
        },
        {
         "name": "STD_prcp_scaled",
         "rawType": "float64",
         "type": "float"
        },
        {
         "name": "STD_snow_scaled",
         "rawType": "float64",
         "type": "float"
        },
        {
         "name": "STD_wdir_scaled",
         "rawType": "float64",
         "type": "float"
        },
        {
         "name": "STD_wspd_scaled",
         "rawType": "float64",
         "type": "float"
        },
        {
         "name": "STD_wpgt_scaled",
         "rawType": "float64",
         "type": "float"
        },
        {
         "name": "STD_pres_scaled",
         "rawType": "float64",
         "type": "float"
        },
        {
         "name": "STD_tsun_scaled",
         "rawType": "float64",
         "type": "float"
        },
        {
         "name": "STD_coco_scaled",
         "rawType": "float64",
         "type": "float"
        },
        {
         "name": "STA_temp_scaled",
         "rawType": "float64",
         "type": "float"
        },
        {
         "name": "STA_dwpt_scaled",
         "rawType": "float64",
         "type": "float"
        },
        {
         "name": "STA_rhum_scaled",
         "rawType": "float64",
         "type": "float"
        },
        {
         "name": "STA_prcp_scaled",
         "rawType": "float64",
         "type": "float"
        },
        {
         "name": "STA_snow_scaled",
         "rawType": "float64",
         "type": "float"
        },
        {
         "name": "STA_wdir_scaled",
         "rawType": "float64",
         "type": "float"
        },
        {
         "name": "STA_wspd_scaled",
         "rawType": "float64",
         "type": "float"
        },
        {
         "name": "STA_wpgt_scaled",
         "rawType": "float64",
         "type": "float"
        },
        {
         "name": "STA_pres_scaled",
         "rawType": "float64",
         "type": "float"
        },
        {
         "name": "STA_tsun_scaled",
         "rawType": "float64",
         "type": "float"
        },
        {
         "name": "STA_coco_scaled",
         "rawType": "float64",
         "type": "float"
        },
        {
         "name": "STD_UTC_time_of_day_cosine",
         "rawType": "float64",
         "type": "float"
        },
        {
         "name": "STD_UTC_time_of_year_cosine",
         "rawType": "float64",
         "type": "float"
        },
        {
         "name": "STD_UTC_day_of_year",
         "rawType": "int64",
         "type": "integer"
        },
        {
         "name": "STD_UTC_week_of_year",
         "rawType": "int64",
         "type": "integer"
        },
        {
         "name": "STD_UTC_weekday",
         "rawType": "int64",
         "type": "integer"
        },
        {
         "name": "STD_UTC_hour_of_day",
         "rawType": "int64",
         "type": "integer"
        },
        {
         "name": "STA_UTC_time_of_day_cosine",
         "rawType": "float64",
         "type": "float"
        },
        {
         "name": "STA_UTC_time_of_year_cosine",
         "rawType": "float64",
         "type": "float"
        },
        {
         "name": "STA_UTC_day_of_year",
         "rawType": "float64",
         "type": "float"
        },
        {
         "name": "STA_UTC_week_of_year",
         "rawType": "float64",
         "type": "float"
        },
        {
         "name": "STA_UTC_weekday",
         "rawType": "float64",
         "type": "float"
        },
        {
         "name": "STA_UTC_hour_of_day",
         "rawType": "float64",
         "type": "float"
        }
       ],
       "conversionMethod": "pd.DataFrame",
       "ref": "ce360d86-f1ac-4508-a8b0-b4761248e7bc",
       "rows": [
        [
         "0",
         "3u-csc",
         "b-30cr",
         "Sichuan Airlines",
         "A20N",
         "781848",
         "8873.0",
         "5.0",
         "YIN",
         "TFU",
         "Departure Delayed",
         "0.6054347826086957",
         "0.6720098643649816",
         "0.62",
         null,
         null,
         "0.125",
         "0.036",
         null,
         "0.6779220779220778",
         null,
         null,
         "0.776595744680851",
         "0.8615960099750622",
         "0.66",
         null,
         null,
         "1.0",
         "0.04556962025316456",
         null,
         "0.590314136125655",
         null,
         null,
         "0.5555702330196024",
         "-0.49253272872205434",
         "244",
         "35",
         "5",
         "3",
         "0.021814885034560937",
         "-0.49253272872205434",
         "244.0",
         "35.0",
         "5.0",
         "5.0"
        ],
        [
         "1",
         "3u-csc",
         "b-30cr",
         "Sichuan Airlines",
         "A20N",
         "781848",
         "8873.0",
         "5.0",
         "TFU",
         "YIN",
         "Departure Delayed",
         "0.7391304347826086",
         "0.8631319358816277",
         "0.79",
         null,
         null,
         "0.05555555555555555",
         "0.0432",
         null,
         null,
         null,
         null,
         "0.6138297872340426",
         "0.6683291770573566",
         "0.62",
         null,
         null,
         "0.125",
         "0.0379746835443038",
         null,
         "0.6832460732984293",
         null,
         null,
         "0.6259234721840593",
         "-0.5074302810827518",
         "243",
         "35",
         "4",
         "20",
         "0.7071067811865476",
         "-0.49253272872205434",
         "244.0",
         "35.0",
         "5.0",
         "3.0"
        ],
        [
         "2",
         "3u-csc",
         "b-30cr",
         "Sichuan Airlines",
         "A20N",
         "781848",
         "8873.0",
         "5.0",
         "URC",
         "TFU",
         "Departure Delayed",
         "0.6521739130434783",
         "0.7274969173859434",
         "0.64",
         null,
         null,
         "0.5305555555555556",
         "0.0144",
         null,
         "0.6883116883116883",
         null,
         null,
         "0.7553191489361702",
         "0.8603491271820448",
         "0.74",
         null,
         null,
         "1.0",
         "0.04556962025316456",
         null,
         null,
         null,
         null,
         "-0.08715574274765825",
         "-0.5074302810827518",
         "243",
         "35",
         "4",
         "17",
         "0.36243803828370147",
         "-0.5074302810827518",
         "243.0",
         "35.0",
         "4.0",
         "19.0"
        ],
        [
         "3",
         "3u-csc",
         "b-30cr",
         "Sichuan Airlines",
         "A20N",
         "781848",
         "8873.0",
         "5.0",
         "TFU",
         "URC",
         "Departure Delayed",
         "0.782608695652174",
         "0.8520345252774353",
         "0.59",
         null,
         null,
         "0.08333333333333333",
         "0.0576",
         null,
         null,
         null,
         null,
         "0.7127659574468085",
         "0.7244389027431422",
         "0.47",
         null,
         null,
         "0.9444444444444444",
         "0.04556962025316456",
         null,
         null,
         null,
         null,
         "0.6755902076156602",
         "-0.5074302810827518",
         "243",
         "35",
         "4",
         "3",
         "-0.642787609686539",
         "-0.5074302810827518",
         "243.0",
         "35.0",
         "4.0",
         "8.0"
        ],
        [
         "4",
         "3u-csc",
         "b-30cr",
         "Sichuan Airlines",
         "A20N",
         "781848",
         "8873.0",
         "5.0",
         "ZHA",
         "TFU",
         "Departure Delayed",
         "0.7445652173913043",
         "0.8988902589395809",
         "0.91",
         null,
         null,
         "0.16666666666666666",
         "0.0288",
         null,
         "0.6123376623376621",
         null,
         "0.28",
         "0.7872340425531915",
         "0.8628428927680798",
         "0.63",
         null,
         null,
         "0.1111111111111111",
         "0.06075949367088608",
         null,
         null,
         null,
         null,
         "0.9997620270799091",
         "-0.522177676659508",
         "242",
         "35",
         "3",
         "23",
         "0.8549118706729466",
         "-0.5074302810827518",
         "243.0",
         "35.0",
         "4.0",
         "2.0"
        ]
       ],
       "shape": {
        "columns": 44,
        "rows": 5
       }
      },
      "text/html": [
       "<div>\n",
       "<style scoped>\n",
       "    .dataframe tbody tr th:only-of-type {\n",
       "        vertical-align: middle;\n",
       "    }\n",
       "\n",
       "    .dataframe tbody tr th {\n",
       "        vertical-align: top;\n",
       "    }\n",
       "\n",
       "    .dataframe thead th {\n",
       "        text-align: right;\n",
       "    }\n",
       "</style>\n",
       "<table border=\"1\" class=\"dataframe\">\n",
       "  <thead>\n",
       "    <tr style=\"text-align: right;\">\n",
       "      <th></th>\n",
       "      <th>Airline Code</th>\n",
       "      <th>Aircraft Registration</th>\n",
       "      <th>Operator</th>\n",
       "      <th>Type Code</th>\n",
       "      <th>Mode S</th>\n",
       "      <th>Serial Number</th>\n",
       "      <th>Age(years)</th>\n",
       "      <th>FROM</th>\n",
       "      <th>TO</th>\n",
       "      <th>Departure_Status</th>\n",
       "      <th>STD_temp_scaled</th>\n",
       "      <th>STD_dwpt_scaled</th>\n",
       "      <th>STD_rhum_scaled</th>\n",
       "      <th>STD_prcp_scaled</th>\n",
       "      <th>STD_snow_scaled</th>\n",
       "      <th>STD_wdir_scaled</th>\n",
       "      <th>STD_wspd_scaled</th>\n",
       "      <th>STD_wpgt_scaled</th>\n",
       "      <th>STD_pres_scaled</th>\n",
       "      <th>STD_tsun_scaled</th>\n",
       "      <th>STD_coco_scaled</th>\n",
       "      <th>STA_temp_scaled</th>\n",
       "      <th>STA_dwpt_scaled</th>\n",
       "      <th>STA_rhum_scaled</th>\n",
       "      <th>STA_prcp_scaled</th>\n",
       "      <th>STA_snow_scaled</th>\n",
       "      <th>STA_wdir_scaled</th>\n",
       "      <th>STA_wspd_scaled</th>\n",
       "      <th>STA_wpgt_scaled</th>\n",
       "      <th>STA_pres_scaled</th>\n",
       "      <th>STA_tsun_scaled</th>\n",
       "      <th>STA_coco_scaled</th>\n",
       "      <th>STD_UTC_time_of_day_cosine</th>\n",
       "      <th>STD_UTC_time_of_year_cosine</th>\n",
       "      <th>STD_UTC_day_of_year</th>\n",
       "      <th>STD_UTC_week_of_year</th>\n",
       "      <th>STD_UTC_weekday</th>\n",
       "      <th>STD_UTC_hour_of_day</th>\n",
       "      <th>STA_UTC_time_of_day_cosine</th>\n",
       "      <th>STA_UTC_time_of_year_cosine</th>\n",
       "      <th>STA_UTC_day_of_year</th>\n",
       "      <th>STA_UTC_week_of_year</th>\n",
       "      <th>STA_UTC_weekday</th>\n",
       "      <th>STA_UTC_hour_of_day</th>\n",
       "    </tr>\n",
       "  </thead>\n",
       "  <tbody>\n",
       "    <tr>\n",
       "      <th>0</th>\n",
       "      <td>3u-csc</td>\n",
       "      <td>b-30cr</td>\n",
       "      <td>Sichuan Airlines</td>\n",
       "      <td>A20N</td>\n",
       "      <td>781848</td>\n",
       "      <td>8873.0</td>\n",
       "      <td>5.0</td>\n",
       "      <td>YIN</td>\n",
       "      <td>TFU</td>\n",
       "      <td>Departure Delayed</td>\n",
       "      <td>0.605435</td>\n",
       "      <td>0.672010</td>\n",
       "      <td>0.62</td>\n",
       "      <td>NaN</td>\n",
       "      <td>NaN</td>\n",
       "      <td>0.125000</td>\n",
       "      <td>0.0360</td>\n",
       "      <td>NaN</td>\n",
       "      <td>0.677922</td>\n",
       "      <td>NaN</td>\n",
       "      <td>NaN</td>\n",
       "      <td>0.776596</td>\n",
       "      <td>0.861596</td>\n",
       "      <td>0.66</td>\n",
       "      <td>NaN</td>\n",
       "      <td>NaN</td>\n",
       "      <td>1.000000</td>\n",
       "      <td>0.045570</td>\n",
       "      <td>NaN</td>\n",
       "      <td>0.590314</td>\n",
       "      <td>NaN</td>\n",
       "      <td>NaN</td>\n",
       "      <td>0.555570</td>\n",
       "      <td>-0.492533</td>\n",
       "      <td>244</td>\n",
       "      <td>35</td>\n",
       "      <td>5</td>\n",
       "      <td>3</td>\n",
       "      <td>0.021815</td>\n",
       "      <td>-0.492533</td>\n",
       "      <td>244.0</td>\n",
       "      <td>35.0</td>\n",
       "      <td>5.0</td>\n",
       "      <td>5.0</td>\n",
       "    </tr>\n",
       "    <tr>\n",
       "      <th>1</th>\n",
       "      <td>3u-csc</td>\n",
       "      <td>b-30cr</td>\n",
       "      <td>Sichuan Airlines</td>\n",
       "      <td>A20N</td>\n",
       "      <td>781848</td>\n",
       "      <td>8873.0</td>\n",
       "      <td>5.0</td>\n",
       "      <td>TFU</td>\n",
       "      <td>YIN</td>\n",
       "      <td>Departure Delayed</td>\n",
       "      <td>0.739130</td>\n",
       "      <td>0.863132</td>\n",
       "      <td>0.79</td>\n",
       "      <td>NaN</td>\n",
       "      <td>NaN</td>\n",
       "      <td>0.055556</td>\n",
       "      <td>0.0432</td>\n",
       "      <td>NaN</td>\n",
       "      <td>NaN</td>\n",
       "      <td>NaN</td>\n",
       "      <td>NaN</td>\n",
       "      <td>0.613830</td>\n",
       "      <td>0.668329</td>\n",
       "      <td>0.62</td>\n",
       "      <td>NaN</td>\n",
       "      <td>NaN</td>\n",
       "      <td>0.125000</td>\n",
       "      <td>0.037975</td>\n",
       "      <td>NaN</td>\n",
       "      <td>0.683246</td>\n",
       "      <td>NaN</td>\n",
       "      <td>NaN</td>\n",
       "      <td>0.625923</td>\n",
       "      <td>-0.507430</td>\n",
       "      <td>243</td>\n",
       "      <td>35</td>\n",
       "      <td>4</td>\n",
       "      <td>20</td>\n",
       "      <td>0.707107</td>\n",
       "      <td>-0.492533</td>\n",
       "      <td>244.0</td>\n",
       "      <td>35.0</td>\n",
       "      <td>5.0</td>\n",
       "      <td>3.0</td>\n",
       "    </tr>\n",
       "    <tr>\n",
       "      <th>2</th>\n",
       "      <td>3u-csc</td>\n",
       "      <td>b-30cr</td>\n",
       "      <td>Sichuan Airlines</td>\n",
       "      <td>A20N</td>\n",
       "      <td>781848</td>\n",
       "      <td>8873.0</td>\n",
       "      <td>5.0</td>\n",
       "      <td>URC</td>\n",
       "      <td>TFU</td>\n",
       "      <td>Departure Delayed</td>\n",
       "      <td>0.652174</td>\n",
       "      <td>0.727497</td>\n",
       "      <td>0.64</td>\n",
       "      <td>NaN</td>\n",
       "      <td>NaN</td>\n",
       "      <td>0.530556</td>\n",
       "      <td>0.0144</td>\n",
       "      <td>NaN</td>\n",
       "      <td>0.688312</td>\n",
       "      <td>NaN</td>\n",
       "      <td>NaN</td>\n",
       "      <td>0.755319</td>\n",
       "      <td>0.860349</td>\n",
       "      <td>0.74</td>\n",
       "      <td>NaN</td>\n",
       "      <td>NaN</td>\n",
       "      <td>1.000000</td>\n",
       "      <td>0.045570</td>\n",
       "      <td>NaN</td>\n",
       "      <td>NaN</td>\n",
       "      <td>NaN</td>\n",
       "      <td>NaN</td>\n",
       "      <td>-0.087156</td>\n",
       "      <td>-0.507430</td>\n",
       "      <td>243</td>\n",
       "      <td>35</td>\n",
       "      <td>4</td>\n",
       "      <td>17</td>\n",
       "      <td>0.362438</td>\n",
       "      <td>-0.507430</td>\n",
       "      <td>243.0</td>\n",
       "      <td>35.0</td>\n",
       "      <td>4.0</td>\n",
       "      <td>19.0</td>\n",
       "    </tr>\n",
       "    <tr>\n",
       "      <th>3</th>\n",
       "      <td>3u-csc</td>\n",
       "      <td>b-30cr</td>\n",
       "      <td>Sichuan Airlines</td>\n",
       "      <td>A20N</td>\n",
       "      <td>781848</td>\n",
       "      <td>8873.0</td>\n",
       "      <td>5.0</td>\n",
       "      <td>TFU</td>\n",
       "      <td>URC</td>\n",
       "      <td>Departure Delayed</td>\n",
       "      <td>0.782609</td>\n",
       "      <td>0.852035</td>\n",
       "      <td>0.59</td>\n",
       "      <td>NaN</td>\n",
       "      <td>NaN</td>\n",
       "      <td>0.083333</td>\n",
       "      <td>0.0576</td>\n",
       "      <td>NaN</td>\n",
       "      <td>NaN</td>\n",
       "      <td>NaN</td>\n",
       "      <td>NaN</td>\n",
       "      <td>0.712766</td>\n",
       "      <td>0.724439</td>\n",
       "      <td>0.47</td>\n",
       "      <td>NaN</td>\n",
       "      <td>NaN</td>\n",
       "      <td>0.944444</td>\n",
       "      <td>0.045570</td>\n",
       "      <td>NaN</td>\n",
       "      <td>NaN</td>\n",
       "      <td>NaN</td>\n",
       "      <td>NaN</td>\n",
       "      <td>0.675590</td>\n",
       "      <td>-0.507430</td>\n",
       "      <td>243</td>\n",
       "      <td>35</td>\n",
       "      <td>4</td>\n",
       "      <td>3</td>\n",
       "      <td>-0.642788</td>\n",
       "      <td>-0.507430</td>\n",
       "      <td>243.0</td>\n",
       "      <td>35.0</td>\n",
       "      <td>4.0</td>\n",
       "      <td>8.0</td>\n",
       "    </tr>\n",
       "    <tr>\n",
       "      <th>4</th>\n",
       "      <td>3u-csc</td>\n",
       "      <td>b-30cr</td>\n",
       "      <td>Sichuan Airlines</td>\n",
       "      <td>A20N</td>\n",
       "      <td>781848</td>\n",
       "      <td>8873.0</td>\n",
       "      <td>5.0</td>\n",
       "      <td>ZHA</td>\n",
       "      <td>TFU</td>\n",
       "      <td>Departure Delayed</td>\n",
       "      <td>0.744565</td>\n",
       "      <td>0.898890</td>\n",
       "      <td>0.91</td>\n",
       "      <td>NaN</td>\n",
       "      <td>NaN</td>\n",
       "      <td>0.166667</td>\n",
       "      <td>0.0288</td>\n",
       "      <td>NaN</td>\n",
       "      <td>0.612338</td>\n",
       "      <td>NaN</td>\n",
       "      <td>0.28</td>\n",
       "      <td>0.787234</td>\n",
       "      <td>0.862843</td>\n",
       "      <td>0.63</td>\n",
       "      <td>NaN</td>\n",
       "      <td>NaN</td>\n",
       "      <td>0.111111</td>\n",
       "      <td>0.060759</td>\n",
       "      <td>NaN</td>\n",
       "      <td>NaN</td>\n",
       "      <td>NaN</td>\n",
       "      <td>NaN</td>\n",
       "      <td>0.999762</td>\n",
       "      <td>-0.522178</td>\n",
       "      <td>242</td>\n",
       "      <td>35</td>\n",
       "      <td>3</td>\n",
       "      <td>23</td>\n",
       "      <td>0.854912</td>\n",
       "      <td>-0.507430</td>\n",
       "      <td>243.0</td>\n",
       "      <td>35.0</td>\n",
       "      <td>4.0</td>\n",
       "      <td>2.0</td>\n",
       "    </tr>\n",
       "  </tbody>\n",
       "</table>\n",
       "</div>"
      ],
      "text/plain": [
       "  Airline Code Aircraft Registration          Operator Type Code  Mode S  \\\n",
       "0       3u-csc                b-30cr  Sichuan Airlines      A20N  781848   \n",
       "1       3u-csc                b-30cr  Sichuan Airlines      A20N  781848   \n",
       "2       3u-csc                b-30cr  Sichuan Airlines      A20N  781848   \n",
       "3       3u-csc                b-30cr  Sichuan Airlines      A20N  781848   \n",
       "4       3u-csc                b-30cr  Sichuan Airlines      A20N  781848   \n",
       "\n",
       "  Serial Number  Age(years) FROM   TO   Departure_Status  STD_temp_scaled  \\\n",
       "0        8873.0         5.0  YIN  TFU  Departure Delayed         0.605435   \n",
       "1        8873.0         5.0  TFU  YIN  Departure Delayed         0.739130   \n",
       "2        8873.0         5.0  URC  TFU  Departure Delayed         0.652174   \n",
       "3        8873.0         5.0  TFU  URC  Departure Delayed         0.782609   \n",
       "4        8873.0         5.0  ZHA  TFU  Departure Delayed         0.744565   \n",
       "\n",
       "   STD_dwpt_scaled  STD_rhum_scaled  STD_prcp_scaled  STD_snow_scaled  \\\n",
       "0         0.672010             0.62              NaN              NaN   \n",
       "1         0.863132             0.79              NaN              NaN   \n",
       "2         0.727497             0.64              NaN              NaN   \n",
       "3         0.852035             0.59              NaN              NaN   \n",
       "4         0.898890             0.91              NaN              NaN   \n",
       "\n",
       "   STD_wdir_scaled  STD_wspd_scaled  STD_wpgt_scaled  STD_pres_scaled  \\\n",
       "0         0.125000           0.0360              NaN         0.677922   \n",
       "1         0.055556           0.0432              NaN              NaN   \n",
       "2         0.530556           0.0144              NaN         0.688312   \n",
       "3         0.083333           0.0576              NaN              NaN   \n",
       "4         0.166667           0.0288              NaN         0.612338   \n",
       "\n",
       "   STD_tsun_scaled  STD_coco_scaled  STA_temp_scaled  STA_dwpt_scaled  \\\n",
       "0              NaN              NaN         0.776596         0.861596   \n",
       "1              NaN              NaN         0.613830         0.668329   \n",
       "2              NaN              NaN         0.755319         0.860349   \n",
       "3              NaN              NaN         0.712766         0.724439   \n",
       "4              NaN             0.28         0.787234         0.862843   \n",
       "\n",
       "   STA_rhum_scaled  STA_prcp_scaled  STA_snow_scaled  STA_wdir_scaled  \\\n",
       "0             0.66              NaN              NaN         1.000000   \n",
       "1             0.62              NaN              NaN         0.125000   \n",
       "2             0.74              NaN              NaN         1.000000   \n",
       "3             0.47              NaN              NaN         0.944444   \n",
       "4             0.63              NaN              NaN         0.111111   \n",
       "\n",
       "   STA_wspd_scaled  STA_wpgt_scaled  STA_pres_scaled  STA_tsun_scaled  \\\n",
       "0         0.045570              NaN         0.590314              NaN   \n",
       "1         0.037975              NaN         0.683246              NaN   \n",
       "2         0.045570              NaN              NaN              NaN   \n",
       "3         0.045570              NaN              NaN              NaN   \n",
       "4         0.060759              NaN              NaN              NaN   \n",
       "\n",
       "   STA_coco_scaled  STD_UTC_time_of_day_cosine  STD_UTC_time_of_year_cosine  \\\n",
       "0              NaN                    0.555570                    -0.492533   \n",
       "1              NaN                    0.625923                    -0.507430   \n",
       "2              NaN                   -0.087156                    -0.507430   \n",
       "3              NaN                    0.675590                    -0.507430   \n",
       "4              NaN                    0.999762                    -0.522178   \n",
       "\n",
       "   STD_UTC_day_of_year  STD_UTC_week_of_year  STD_UTC_weekday  \\\n",
       "0                  244                    35                5   \n",
       "1                  243                    35                4   \n",
       "2                  243                    35                4   \n",
       "3                  243                    35                4   \n",
       "4                  242                    35                3   \n",
       "\n",
       "   STD_UTC_hour_of_day  STA_UTC_time_of_day_cosine  \\\n",
       "0                    3                    0.021815   \n",
       "1                   20                    0.707107   \n",
       "2                   17                    0.362438   \n",
       "3                    3                   -0.642788   \n",
       "4                   23                    0.854912   \n",
       "\n",
       "   STA_UTC_time_of_year_cosine  STA_UTC_day_of_year  STA_UTC_week_of_year  \\\n",
       "0                    -0.492533                244.0                  35.0   \n",
       "1                    -0.492533                244.0                  35.0   \n",
       "2                    -0.507430                243.0                  35.0   \n",
       "3                    -0.507430                243.0                  35.0   \n",
       "4                    -0.507430                243.0                  35.0   \n",
       "\n",
       "   STA_UTC_weekday  STA_UTC_hour_of_day  \n",
       "0              5.0                  5.0  \n",
       "1              5.0                  3.0  \n",
       "2              4.0                 19.0  \n",
       "3              4.0                  8.0  \n",
       "4              4.0                  2.0  "
      ]
     },
     "execution_count": 16,
     "metadata": {},
     "output_type": "execute_result"
    }
   ],
   "source": [
    "df.head(5)"
   ]
  },
  {
   "cell_type": "code",
   "execution_count": 6,
   "metadata": {},
   "outputs": [],
   "source": [
    "from sklearn.model_selection import train_test_split "
   ]
  },
  {
   "cell_type": "markdown",
   "metadata": {},
   "source": [
    "Convert float64 to float32 (Performance Optimization)"
   ]
  },
  {
   "cell_type": "code",
   "execution_count": 7,
   "metadata": {},
   "outputs": [],
   "source": [
    "# Convert float64 to float32\n",
    "float_cols = df.select_dtypes(include='float64').columns\n",
    "df[float_cols] = df[float_cols].astype('float32')\n",
    "\n",
    "# Convert int64 to int32\n",
    "int_cols = df.select_dtypes(include='int64').columns\n",
    "df[int_cols] = df[int_cols].astype('int32')"
   ]
  },
  {
   "cell_type": "code",
   "execution_count": 8,
   "metadata": {},
   "outputs": [
    {
     "data": {
      "text/plain": [
       "Airline Code                   category\n",
       "Aircraft Registration          category\n",
       "Operator                       category\n",
       "Type Code                      category\n",
       "Mode S                         category\n",
       "Serial Number                  category\n",
       "Age(years)                      float32\n",
       "FROM                           category\n",
       "TO                             category\n",
       "Departure_Status               category\n",
       "STD_temp_scaled                 float32\n",
       "STD_dwpt_scaled                 float32\n",
       "STD_rhum_scaled                 float32\n",
       "STD_prcp_scaled                 float32\n",
       "STD_snow_scaled                 float32\n",
       "STD_wdir_scaled                 float32\n",
       "STD_wspd_scaled                 float32\n",
       "STD_wpgt_scaled                 float32\n",
       "STD_pres_scaled                 float32\n",
       "STD_tsun_scaled                 float32\n",
       "STD_coco_scaled                 float32\n",
       "STA_temp_scaled                 float32\n",
       "STA_dwpt_scaled                 float32\n",
       "STA_rhum_scaled                 float32\n",
       "STA_prcp_scaled                 float32\n",
       "STA_snow_scaled                 float32\n",
       "STA_wdir_scaled                 float32\n",
       "STA_wspd_scaled                 float32\n",
       "STA_wpgt_scaled                 float32\n",
       "STA_pres_scaled                 float32\n",
       "STA_tsun_scaled                 float32\n",
       "STA_coco_scaled                 float32\n",
       "STD_UTC_time_of_day_cosine      float32\n",
       "STD_UTC_time_of_year_cosine     float32\n",
       "STD_UTC_day_of_year               int32\n",
       "STD_UTC_week_of_year              int32\n",
       "STD_UTC_weekday                   int32\n",
       "STD_UTC_hour_of_day               int32\n",
       "STA_UTC_time_of_day_cosine      float32\n",
       "STA_UTC_time_of_year_cosine     float32\n",
       "STA_UTC_day_of_year             float32\n",
       "STA_UTC_week_of_year            float32\n",
       "STA_UTC_weekday                 float32\n",
       "STA_UTC_hour_of_day             float32\n",
       "dtype: object"
      ]
     },
     "execution_count": 8,
     "metadata": {},
     "output_type": "execute_result"
    }
   ],
   "source": [
    "df.dtypes"
   ]
  },
  {
   "cell_type": "code",
   "execution_count": 9,
   "metadata": {},
   "outputs": [
    {
     "data": {
      "text/plain": [
       "['Airline Code',\n",
       " 'Aircraft Registration',\n",
       " 'Operator',\n",
       " 'Type Code',\n",
       " 'Mode S',\n",
       " 'Serial Number',\n",
       " 'FROM',\n",
       " 'TO']"
      ]
     },
     "execution_count": 9,
     "metadata": {},
     "output_type": "execute_result"
    }
   ],
   "source": [
    "X = df.drop(columns = [\"Departure_Status\"])\n",
    "y = df[\"Departure_Status\"].astype('category').cat.codes\n",
    "catFeat = X.select_dtypes(include='category').columns.tolist() \n",
    "catFeat "
   ]
  },
  {
   "cell_type": "code",
   "execution_count": 10,
   "metadata": {},
   "outputs": [
    {
     "data": {
      "text/plain": [
       "((7001872, 43), (2333957, 43), (2333958, 43))"
      ]
     },
     "execution_count": 10,
     "metadata": {},
     "output_type": "execute_result"
    }
   ],
   "source": [
    "# 60 % training, 40 % temp (to split into test and validation)  \n",
    "xTrain, xTemp, yTrain , yTemp = train_test_split(X, y, test_size = 0.4, random_state = 42) \n",
    "\n",
    "# 20 % test, 20 % validation \n",
    "xTest, xVal, yTest, yVal = train_test_split(xTemp, yTemp, test_size = 0.5, random_state = 42) \n",
    "\n",
    "xTrain.shape, xTest.shape, xVal.shape"
   ]
  },
  {
   "cell_type": "code",
   "execution_count": 11,
   "metadata": {},
   "outputs": [],
   "source": [
    "trainData = lgb.Dataset(data = xTrain, label = yTrain, categorical_feature = catFeat)\n",
    "validData = lgb.Dataset(data = xVal, label = yVal, categorical_feature = catFeat)  "
   ]
  },
  {
   "cell_type": "markdown",
   "metadata": {},
   "source": [
    "Training Starts Here"
   ]
  },
  {
   "cell_type": "markdown",
   "metadata": {},
   "source": [
    "Manual Override"
   ]
  },
  {
   "cell_type": "code",
   "execution_count": 12,
   "metadata": {},
   "outputs": [
    {
     "name": "stdout",
     "output_type": "stream",
     "text": [
      "Training until validation scores don't improve for 60 rounds\n",
      "[10]\tvalid_0's multi_logloss: 0.252565\n",
      "[20]\tvalid_0's multi_logloss: 0.235933\n",
      "[30]\tvalid_0's multi_logloss: 0.227893\n",
      "[40]\tvalid_0's multi_logloss: 0.223344\n",
      "[50]\tvalid_0's multi_logloss: 0.220227\n",
      "[60]\tvalid_0's multi_logloss: 0.217442\n",
      "[70]\tvalid_0's multi_logloss: 0.214971\n",
      "[80]\tvalid_0's multi_logloss: 0.213391\n",
      "[90]\tvalid_0's multi_logloss: 0.211869\n",
      "[100]\tvalid_0's multi_logloss: 0.211171\n",
      "[110]\tvalid_0's multi_logloss: 0.210236\n",
      "[120]\tvalid_0's multi_logloss: 0.209799\n",
      "[130]\tvalid_0's multi_logloss: 0.209446\n",
      "[140]\tvalid_0's multi_logloss: 0.209205\n",
      "[150]\tvalid_0's multi_logloss: 0.208999\n",
      "[160]\tvalid_0's multi_logloss: 0.20885\n",
      "[170]\tvalid_0's multi_logloss: 0.208683\n",
      "[180]\tvalid_0's multi_logloss: 0.208553\n",
      "[190]\tvalid_0's multi_logloss: 0.208385\n",
      "[200]\tvalid_0's multi_logloss: 0.208212\n",
      "[210]\tvalid_0's multi_logloss: 0.207999\n",
      "[220]\tvalid_0's multi_logloss: 0.207816\n",
      "[230]\tvalid_0's multi_logloss: 0.207737\n",
      "[240]\tvalid_0's multi_logloss: 0.207697\n",
      "[250]\tvalid_0's multi_logloss: 0.207615\n",
      "[260]\tvalid_0's multi_logloss: 0.207593\n",
      "[270]\tvalid_0's multi_logloss: 0.207586\n",
      "[280]\tvalid_0's multi_logloss: 0.207575\n",
      "[290]\tvalid_0's multi_logloss: 0.207532\n",
      "[300]\tvalid_0's multi_logloss: 0.207486\n",
      "[310]\tvalid_0's multi_logloss: 0.207391\n",
      "[320]\tvalid_0's multi_logloss: 0.207447\n",
      "[330]\tvalid_0's multi_logloss: 0.207197\n",
      "[340]\tvalid_0's multi_logloss: 0.207177\n",
      "[350]\tvalid_0's multi_logloss: 0.207161\n",
      "[360]\tvalid_0's multi_logloss: 0.207169\n",
      "[370]\tvalid_0's multi_logloss: 0.207168\n",
      "[380]\tvalid_0's multi_logloss: 0.207181\n",
      "[390]\tvalid_0's multi_logloss: 0.207248\n",
      "[400]\tvalid_0's multi_logloss: 0.207258\n",
      "Early stopping, best iteration is:\n",
      "[347]\tvalid_0's multi_logloss: 0.207146\n"
     ]
    }
   ],
   "source": [
    "params = {\n",
    "    'objective': 'multiclass',         # Binary classification\n",
    "    'num_class':3,\n",
    "    'metric': 'multi_logloss',    # Log loss for binary classification\n",
    "    'boosting_type': 'gbdt',\n",
    "    'num_leaves': 255,\n",
    "    'learning_rate': 0.05,\n",
    "    'verbose': -1,\n",
    "}\n",
    "\n",
    "# Training the model\n",
    "model = lgb.train(\n",
    "    params, \n",
    "    trainData, \n",
    "    valid_sets=[validData],\n",
    "    num_boost_round=500,\n",
    "    callbacks=[\n",
    "        lgb.early_stopping(stopping_rounds=60),\n",
    "        lgb.log_evaluation(period=10) ],\n",
    "    )"
   ]
  },
  {
   "cell_type": "markdown",
   "metadata": {},
   "source": [
    "Process Flow - No eta"
   ]
  },
  {
   "cell_type": "code",
   "execution_count": 18,
   "metadata": {},
   "outputs": [
    {
     "name": "stdout",
     "output_type": "stream",
     "text": [
      "Fitting 5 folds for each of 2 candidates, totalling 10 fits\n",
      "Best Parameters: {'learning_rate': 0.1, 'n_estimators': 20, 'num_leaves': 15}\n",
      "Training until validation scores don't improve for 60 rounds\n",
      "Did not meet early stopping. Best iteration is:\n",
      "[20]\tvalid_0's multi_logloss: 0.246178\n",
      "Validation Accuracy: 0.9137\n"
     ]
    },
    {
     "data": {
      "text/plain": [
       "<lightgbm.basic.Booster at 0x169fd00b0>"
      ]
     },
     "execution_count": 18,
     "metadata": {},
     "output_type": "execute_result"
    }
   ],
   "source": [
    "import lightgbm as lgb\n",
    "from sklearn.model_selection import GridSearchCV\n",
    "from sklearn.metrics import accuracy_score\n",
    "\n",
    "# Define the base LightGBM model (renamed to best_model)\n",
    "best_model = lgb.LGBMClassifier(\n",
    "    objective='multiclass', \n",
    "    metric='multi_logloss', \n",
    "    boosting_type='gbdt',\n",
    "    verbose=-1,\n",
    "    random_state=42\n",
    ")\n",
    "\n",
    "# Define the hyperparameter grid based on your updated ranges\n",
    "param_grid = {\n",
    "    'num_leaves': [15],  # Adjusted range\n",
    "    'learning_rate': [0.1],  # Adjusted range\n",
    "    'n_estimators': [10,20]  # Adjusted range\n",
    "}\n",
    "\n",
    "# Initialize GridSearchCV with 5-fold cross-validation\n",
    "grid_search = GridSearchCV(\n",
    "    estimator=best_model,  # Using best_model as the estimator\n",
    "    param_grid=param_grid,\n",
    "    scoring='accuracy',  \n",
    "    cv=5,  # K = 5\n",
    "    verbose=1,\n",
    "    n_jobs=-1\n",
    ")\n",
    "\n",
    "# Train using GridSearchCV\n",
    "grid_search.fit(xTrain, yTrain)\n",
    "\n",
    "# Print the best parameters\n",
    "print(\"Best Parameters:\", grid_search.best_params_)\n",
    "\n",
    "# Train the final model with best parameters on full training data\n",
    "best_params = grid_search.best_params_\n",
    "\n",
    "# Convert to the LightGBM Dataset format\n",
    "train_data = lgb.Dataset(xTrain, label=yTrain)\n",
    "valid_data = lgb.Dataset(xVal, label=yVal, reference=train_data)\n",
    "\n",
    "# Use lgb.train for better control and early stopping (renamed to model)\n",
    "model = lgb.train(\n",
    "    {**best_params, \"objective\": \"multiclass\", \"metric\": \"multi_logloss\", \"num_class\": 3},\n",
    "    train_data,\n",
    "    valid_sets=[valid_data],\n",
    "    num_boost_round=best_params['n_estimators'],  # Use best n_estimators from grid search\n",
    "    callbacks=[\n",
    "        lgb.early_stopping(stopping_rounds=60),  # Correct way to apply early stopping\n",
    "        lgb.log_evaluation(period=100)  # Correct way to enable verbose logging\n",
    "    ]\n",
    ")\n",
    "\n",
    "# Predict on validation set\n",
    "y_pred = model.predict(xVal)\n",
    "\n",
    "# Evaluate performance\n",
    "y_pred_classes = y_pred.argmax(axis=1)\n",
    "\n",
    "# Evaluate performance\n",
    "print(f\"Validation Accuracy: {accuracy_score(yVal, y_pred_classes):.4f}\")\n",
    "\n",
    "# Save the trained LightGBM model (renamed to model)\n",
    "model.save_model(\"trial_data_model.txt\")"
   ]
  },
  {
   "cell_type": "markdown",
   "metadata": {},
   "source": [
    "Process Flow - With ETA"
   ]
  },
  {
   "cell_type": "code",
   "execution_count": 36,
   "metadata": {},
   "outputs": [
    {
     "name": "stderr",
     "output_type": "stream",
     "text": [
      "Grid Search: 100%|███| 2/2 [00:15<00:00,  7.99s/combo, elapsed_time=15.98s, eta=00:00:00, it/s=0.10]\n"
     ]
    },
    {
     "name": "stdout",
     "output_type": "stream",
     "text": [
      "Fitting 5 folds for each of 2 candidates, totalling 10 fits\n",
      "\n",
      "Total Grid Search Time: 76.22 seconds\n",
      "\n",
      "Time Taken for Each Candidate:\n",
      "{'learning_rate': 0.1, 'n_estimators': 10, 'num_leaves': 15} -> 6.11 sec (it/s: 0.16)\n",
      "{'learning_rate': 0.1, 'n_estimators': 20, 'num_leaves': 15} -> 9.87 sec (it/s: 0.10)\n",
      "Best Parameters: {'learning_rate': 0.1, 'n_estimators': 20, 'num_leaves': 15}\n",
      "Training until validation scores don't improve for 60 rounds\n",
      "Did not meet early stopping. Best iteration is:\n",
      "[20]\tvalid_0's multi_logloss: 0.246178\n",
      "Validation Accuracy: 0.9137\n"
     ]
    },
    {
     "data": {
      "text/plain": [
       "<lightgbm.basic.Booster at 0x507dfe5d0>"
      ]
     },
     "execution_count": 36,
     "metadata": {},
     "output_type": "execute_result"
    }
   ],
   "source": [
    "import time\n",
    "import lightgbm as lgb\n",
    "from sklearn.model_selection import ParameterGrid, GridSearchCV\n",
    "from sklearn.metrics import accuracy_score\n",
    "from tqdm import tqdm  # progress bar\n",
    "\n",
    "# Define the base LightGBM model\n",
    "best_model = lgb.LGBMClassifier(\n",
    "    objective='multiclass', \n",
    "    metric='multi_logloss', \n",
    "    boosting_type='gbdt',\n",
    "    verbose=-1,\n",
    "    random_state=42\n",
    ")\n",
    "\n",
    "# Define the hyperparameter grid\n",
    "param_grid = {\n",
    "    'num_leaves': [15],  # Adjusted range\n",
    "    'learning_rate': [0.1],  # Adjusted range\n",
    "    'n_estimators': [10,20]  # Adjusted range\n",
    "}\n",
    "\n",
    "# Generate all parameter combinations from the grid\n",
    "param_combinations = list(ParameterGrid(param_grid))\n",
    "progress_bar = tqdm(param_combinations, desc=\"Grid Search\", unit=\"combo\", ncols=100)\n",
    "\n",
    "# Dictionary to store timing for each candidate\n",
    "timing_results = {}\n",
    "\n",
    "# Start the clock for ETA calculation\n",
    "start_time = time.time()\n",
    "\n",
    "# Iterate manually over each parameter combination and time each candidate\n",
    "for i, params in enumerate(progress_bar):\n",
    "    start_candidate = time.time()\n",
    "    \n",
    "    # Create and train a candidate model with current parameters\n",
    "    candidate_model = lgb.LGBMClassifier(\n",
    "        **params, \n",
    "        objective='multiclass', \n",
    "        metric='multi_logloss', \n",
    "        random_state=42\n",
    "    )\n",
    "    candidate_model.fit(xTrain, yTrain)\n",
    "    \n",
    "    candidate_time = time.time() - start_candidate\n",
    "    timing_results[str(params)] = candidate_time\n",
    "    \n",
    "    # Calculate iterations per second (it/s)\n",
    "    it_per_sec = 1.0 / candidate_time if candidate_time > 0 else float('inf')\n",
    "    \n",
    "    # Update the progress bar with the elapsed time and it/s\n",
    "    elapsed_time = time.time() - start_time\n",
    "    total_combinations = len(param_combinations)\n",
    "    remaining_combinations = total_combinations - (i + 1)\n",
    "    \n",
    "    # Estimate remaining time (ETA)\n",
    "    avg_time_per_fit = elapsed_time / (i + 1) if (i + 1) > 0 else 0\n",
    "    eta = avg_time_per_fit * remaining_combinations\n",
    "    eta_str = time.strftime(\"%H:%M:%S\", time.gmtime(eta))  # Format ETA\n",
    "\n",
    "    # Update the tqdm progress bar with the elapsed time, ETA, and it/s\n",
    "    progress_bar.set_postfix({\n",
    "        \"elapsed_time\": f\"{elapsed_time:.2f}s\",\n",
    "        \"eta\": eta_str,\n",
    "        \"it/s\": f\"{it_per_sec:.2f}\"\n",
    "    })\n",
    "\n",
    "# Now run GridSearchCV (this will run in parallel as specified by n_jobs)\n",
    "start_grid = time.time()\n",
    "grid_search = GridSearchCV(\n",
    "    estimator=best_model,\n",
    "    param_grid=param_grid,\n",
    "    scoring='accuracy',  \n",
    "    cv=5,\n",
    "    verbose=1,\n",
    "    n_jobs=-1\n",
    ")\n",
    "grid_search.fit(xTrain, yTrain)\n",
    "grid_time = time.time() - start_grid\n",
    "print(f\"\\nTotal Grid Search Time: {grid_time:.2f} seconds\")\n",
    "\n",
    "# Print timing for each candidate\n",
    "print(\"\\nTime Taken for Each Candidate:\")\n",
    "for param_str, t in timing_results.items():\n",
    "    print(f\"{param_str} -> {t:.2f} sec (it/s: {1/t if t > 0 else float('inf'):.2f})\")\n",
    "\n",
    "# Retrieve best parameters from grid search\n",
    "best_params = grid_search.best_params_\n",
    "print(\"Best Parameters:\", best_params)\n",
    "\n",
    "# Convert to the LightGBM Dataset format\n",
    "train_data = lgb.Dataset(xTrain, label=yTrain)\n",
    "valid_data = lgb.Dataset(xVal, label=yVal, reference=train_data)\n",
    "\n",
    "# Train the final model using lgb.train with early stopping callbacks\n",
    "model = lgb.train(\n",
    "    {**best_params, \"objective\": \"multiclass\", \"metric\": \"multi_logloss\", \"num_class\": 3},\n",
    "    train_data,\n",
    "    valid_sets=[valid_data],\n",
    "    num_boost_round=best_params['n_estimators'],  # using best n_estimators from grid search\n",
    "    callbacks=[\n",
    "        lgb.early_stopping(stopping_rounds=60),\n",
    "        lgb.log_evaluation(period=100)\n",
    "    ]\n",
    ")\n",
    "\n",
    "# Predict on validation set\n",
    "y_pred = model.predict(xVal)\n",
    "y_pred_classes = y_pred.argmax(axis=1)\n",
    "val_accuracy = accuracy_score(yVal, y_pred_classes)\n",
    "print(f\"Validation Accuracy: {val_accuracy:.4f}\")\n",
    "\n",
    "# Save the final model\n",
    "model.save_model(\"trial_data_model.txt\")"
   ]
  },
  {
   "cell_type": "markdown",
   "metadata": {},
   "source": [
    "Validate the model on the Validation Set"
   ]
  },
  {
   "cell_type": "code",
   "execution_count": 19,
   "metadata": {},
   "outputs": [
    {
     "name": "stdout",
     "output_type": "stream",
     "text": [
      "Validation Accuracy:  0.9136646846258587\n",
      "Validation AUC:  0.8787325505816875\n",
      "Confusion Matrix: \n",
      " [[   8190    2060      62]\n",
      " [     48 2122131     565]\n",
      " [    259  198509    2134]]\n",
      "Classification Report: \n",
      "               precision    recall  f1-score   support\n",
      "\n",
      "           0       0.96      0.79      0.87     10312\n",
      "           1       0.91      1.00      0.95   2122744\n",
      "           2       0.77      0.01      0.02    200902\n",
      "\n",
      "    accuracy                           0.91   2333958\n",
      "   macro avg       0.88      0.60      0.62   2333958\n",
      "weighted avg       0.90      0.91      0.87   2333958\n",
      "\n"
     ]
    }
   ],
   "source": [
    "import numpy as np\n",
    "from sklearn.metrics import accuracy_score, roc_auc_score, confusion_matrix, classification_report\n",
    "\n",
    "# Predict probabilities on the validation set\n",
    "yValidatePredProbability = model.predict(xVal)  # Shape: [n_samples, n_classes]\n",
    "\n",
    "# Convert probabilities to predicted class labels\n",
    "yValidatePred = np.argmax(yValidatePredProbability, axis=1)  # Shape: [n_samples]\n",
    "\n",
    "# Accuracy\n",
    "validationAccuracy = accuracy_score(yVal, yValidatePred)\n",
    "print(\"Validation Accuracy: \", validationAccuracy)\n",
    "\n",
    "# AUC (for multi-class)\n",
    "validationAUC = roc_auc_score(yVal, yValidatePredProbability, multi_class='ovr', average='macro')\n",
    "print(\"Validation AUC: \", validationAUC)\n",
    "\n",
    "# Confusion Matrix\n",
    "confusionMatrix = confusion_matrix(yVal, yValidatePred)\n",
    "print(\"Confusion Matrix: \\n\", confusionMatrix)\n",
    "\n",
    "# Classification Report\n",
    "classificationReport = classification_report(yVal, yValidatePred)\n",
    "print(\"Classification Report: \\n\", classificationReport)"
   ]
  },
  {
   "cell_type": "markdown",
   "metadata": {},
   "source": [
    "Test on Test Data"
   ]
  },
  {
   "cell_type": "code",
   "execution_count": 20,
   "metadata": {},
   "outputs": [
    {
     "name": "stdout",
     "output_type": "stream",
     "text": [
      "Test Accuracy:  0.9135823839085296\n",
      "Test AUC:  0.8784289824792889\n",
      "Test Confusion Matrix: \n",
      " [[   8239    2067      49]\n",
      " [     41 2121875     531]\n",
      " [    267  198740    2148]]\n",
      "Test Classification Report: \n",
      "               precision    recall  f1-score   support\n",
      "\n",
      "           0       0.96      0.80      0.87     10355\n",
      "           1       0.91      1.00      0.95   2122447\n",
      "           2       0.79      0.01      0.02    201155\n",
      "\n",
      "    accuracy                           0.91   2333957\n",
      "   macro avg       0.89      0.60      0.62   2333957\n",
      "weighted avg       0.90      0.91      0.87   2333957\n",
      "\n"
     ]
    }
   ],
   "source": [
    "yTestPredProbability = model.predict(xTest)  # Shape: [n_samples, n_classes]\n",
    "\n",
    "# Convert probabilities to predicted class labels\n",
    "yTestPred = np.argmax(yTestPredProbability, axis=1)  # Shape: [n_samples]\n",
    "\n",
    "# Accuracy\n",
    "testAccuracy = accuracy_score(yTest, yTestPred)\n",
    "print(\"Test Accuracy: \", testAccuracy)\n",
    "\n",
    "# AUC (for multi-class)\n",
    "testAUC = roc_auc_score(yTest, yTestPredProbability, multi_class='ovr', average='macro')\n",
    "print(\"Test AUC: \", testAUC)\n",
    "\n",
    "# Confusion Matrix\n",
    "testConfusionMatrix = confusion_matrix(yTest, yTestPred)\n",
    "print(\"Test Confusion Matrix: \\n\", testConfusionMatrix)\n",
    "\n",
    "# Classification Report\n",
    "testClassificationReport = classification_report(yTest, yTestPred)\n",
    "print(\"Test Classification Report: \\n\", testClassificationReport)"
   ]
  },
  {
   "cell_type": "markdown",
   "metadata": {},
   "source": [
    "## Feature Importance Summary"
   ]
  },
  {
   "cell_type": "code",
   "execution_count": 21,
   "metadata": {},
   "outputs": [
    {
     "data": {
      "application/vnd.plotly.v1+json": {
       "config": {
        "plotlyServerURL": "https://plot.ly"
       },
       "data": [
        {
         "hovertemplate": "Gain=%{x}<br>Feature=%{y}<extra></extra>",
         "legendgroup": "",
         "marker": {
          "color": "#636efa",
          "pattern": {
           "shape": ""
          }
         },
         "name": "",
         "orientation": "h",
         "showlegend": false,
         "textposition": "auto",
         "type": "bar",
         "x": {
          "bdata": "AACD6H3tTUEAAMFWz/0+QQAAG4BzxTFBAAAAAKxbJUEAAMYdytokQQAAgltMJCNBAADIRk8KFkEAAJi5PUYUQQAA9GZYqhBBAACQ2GWqA0EAACi8esT6QAAAwDkCkPpAAACwL/4B9UAAAABgC1/xQAAAABqiP/BAAAAAyeZq70AAAMAE60DuQAAAUP/VqOZAAACgPVyH40AAAIAbzMjQQAAAACwne8RAAABAv5opw0AAAACUxCrAQAAAANkvBrpAAAAAaKYFoUAAAABsafedQAAAANBNeYJAAAAAYLjIfUAAAACg7ZR9QAAAAMBLy3lAAAAAoBwuckAAAAAg2QZxQAAAAEC2l2hAAAAAAC06WUAAAAAAAAAAAAAAAAAAAAAAAAAAAAAAAAAAAAAAAAAAAAAAAAAAAAAAAAAAAAAAAAAAAAAAAAAAAAAAAAAAAAAAAAAAAAAAAAA=",
          "dtype": "f8"
         },
         "xaxis": "x",
         "y": [
          "STA_UTC_time_of_day_cosine",
          "FROM",
          "STD_dwpt_scaled",
          "STD_UTC_week_of_year",
          "Type Code",
          "Airline Code",
          "Operator",
          "STA_UTC_time_of_year_cosine",
          "STD_UTC_time_of_year_cosine",
          "STA_UTC_day_of_year",
          "Serial Number",
          "STD_UTC_day_of_year",
          "TO",
          "STD_UTC_hour_of_day",
          "Age(years)",
          "STD_temp_scaled",
          "STD_UTC_time_of_day_cosine",
          "Mode S",
          "Aircraft Registration",
          "STA_UTC_hour_of_day",
          "STA_dwpt_scaled",
          "STD_rhum_scaled",
          "STD_coco_scaled",
          "STD_pres_scaled",
          "STD_wdir_scaled",
          "STA_pres_scaled",
          "STA_wspd_scaled",
          "STA_UTC_week_of_year",
          "STD_prcp_scaled",
          "STA_coco_scaled",
          "STA_temp_scaled",
          "STD_UTC_weekday",
          "STA_UTC_weekday",
          "STD_wpgt_scaled",
          "STA_tsun_scaled",
          "STA_wpgt_scaled",
          "STD_wspd_scaled",
          "STA_wdir_scaled",
          "STD_snow_scaled",
          "STA_snow_scaled",
          "STA_prcp_scaled",
          "STA_rhum_scaled",
          "STD_tsun_scaled"
         ],
         "yaxis": "y"
        }
       ],
       "layout": {
        "barmode": "relative",
        "height": 600,
        "legend": {
         "tracegroupgap": 0
        },
        "template": {
         "data": {
          "bar": [
           {
            "error_x": {
             "color": "#2a3f5f"
            },
            "error_y": {
             "color": "#2a3f5f"
            },
            "marker": {
             "line": {
              "color": "#E5ECF6",
              "width": 0.5
             },
             "pattern": {
              "fillmode": "overlay",
              "size": 10,
              "solidity": 0.2
             }
            },
            "type": "bar"
           }
          ],
          "barpolar": [
           {
            "marker": {
             "line": {
              "color": "#E5ECF6",
              "width": 0.5
             },
             "pattern": {
              "fillmode": "overlay",
              "size": 10,
              "solidity": 0.2
             }
            },
            "type": "barpolar"
           }
          ],
          "carpet": [
           {
            "aaxis": {
             "endlinecolor": "#2a3f5f",
             "gridcolor": "white",
             "linecolor": "white",
             "minorgridcolor": "white",
             "startlinecolor": "#2a3f5f"
            },
            "baxis": {
             "endlinecolor": "#2a3f5f",
             "gridcolor": "white",
             "linecolor": "white",
             "minorgridcolor": "white",
             "startlinecolor": "#2a3f5f"
            },
            "type": "carpet"
           }
          ],
          "choropleth": [
           {
            "colorbar": {
             "outlinewidth": 0,
             "ticks": ""
            },
            "type": "choropleth"
           }
          ],
          "contour": [
           {
            "colorbar": {
             "outlinewidth": 0,
             "ticks": ""
            },
            "colorscale": [
             [
              0,
              "#0d0887"
             ],
             [
              0.1111111111111111,
              "#46039f"
             ],
             [
              0.2222222222222222,
              "#7201a8"
             ],
             [
              0.3333333333333333,
              "#9c179e"
             ],
             [
              0.4444444444444444,
              "#bd3786"
             ],
             [
              0.5555555555555556,
              "#d8576b"
             ],
             [
              0.6666666666666666,
              "#ed7953"
             ],
             [
              0.7777777777777778,
              "#fb9f3a"
             ],
             [
              0.8888888888888888,
              "#fdca26"
             ],
             [
              1,
              "#f0f921"
             ]
            ],
            "type": "contour"
           }
          ],
          "contourcarpet": [
           {
            "colorbar": {
             "outlinewidth": 0,
             "ticks": ""
            },
            "type": "contourcarpet"
           }
          ],
          "heatmap": [
           {
            "colorbar": {
             "outlinewidth": 0,
             "ticks": ""
            },
            "colorscale": [
             [
              0,
              "#0d0887"
             ],
             [
              0.1111111111111111,
              "#46039f"
             ],
             [
              0.2222222222222222,
              "#7201a8"
             ],
             [
              0.3333333333333333,
              "#9c179e"
             ],
             [
              0.4444444444444444,
              "#bd3786"
             ],
             [
              0.5555555555555556,
              "#d8576b"
             ],
             [
              0.6666666666666666,
              "#ed7953"
             ],
             [
              0.7777777777777778,
              "#fb9f3a"
             ],
             [
              0.8888888888888888,
              "#fdca26"
             ],
             [
              1,
              "#f0f921"
             ]
            ],
            "type": "heatmap"
           }
          ],
          "histogram": [
           {
            "marker": {
             "pattern": {
              "fillmode": "overlay",
              "size": 10,
              "solidity": 0.2
             }
            },
            "type": "histogram"
           }
          ],
          "histogram2d": [
           {
            "colorbar": {
             "outlinewidth": 0,
             "ticks": ""
            },
            "colorscale": [
             [
              0,
              "#0d0887"
             ],
             [
              0.1111111111111111,
              "#46039f"
             ],
             [
              0.2222222222222222,
              "#7201a8"
             ],
             [
              0.3333333333333333,
              "#9c179e"
             ],
             [
              0.4444444444444444,
              "#bd3786"
             ],
             [
              0.5555555555555556,
              "#d8576b"
             ],
             [
              0.6666666666666666,
              "#ed7953"
             ],
             [
              0.7777777777777778,
              "#fb9f3a"
             ],
             [
              0.8888888888888888,
              "#fdca26"
             ],
             [
              1,
              "#f0f921"
             ]
            ],
            "type": "histogram2d"
           }
          ],
          "histogram2dcontour": [
           {
            "colorbar": {
             "outlinewidth": 0,
             "ticks": ""
            },
            "colorscale": [
             [
              0,
              "#0d0887"
             ],
             [
              0.1111111111111111,
              "#46039f"
             ],
             [
              0.2222222222222222,
              "#7201a8"
             ],
             [
              0.3333333333333333,
              "#9c179e"
             ],
             [
              0.4444444444444444,
              "#bd3786"
             ],
             [
              0.5555555555555556,
              "#d8576b"
             ],
             [
              0.6666666666666666,
              "#ed7953"
             ],
             [
              0.7777777777777778,
              "#fb9f3a"
             ],
             [
              0.8888888888888888,
              "#fdca26"
             ],
             [
              1,
              "#f0f921"
             ]
            ],
            "type": "histogram2dcontour"
           }
          ],
          "mesh3d": [
           {
            "colorbar": {
             "outlinewidth": 0,
             "ticks": ""
            },
            "type": "mesh3d"
           }
          ],
          "parcoords": [
           {
            "line": {
             "colorbar": {
              "outlinewidth": 0,
              "ticks": ""
             }
            },
            "type": "parcoords"
           }
          ],
          "pie": [
           {
            "automargin": true,
            "type": "pie"
           }
          ],
          "scatter": [
           {
            "fillpattern": {
             "fillmode": "overlay",
             "size": 10,
             "solidity": 0.2
            },
            "type": "scatter"
           }
          ],
          "scatter3d": [
           {
            "line": {
             "colorbar": {
              "outlinewidth": 0,
              "ticks": ""
             }
            },
            "marker": {
             "colorbar": {
              "outlinewidth": 0,
              "ticks": ""
             }
            },
            "type": "scatter3d"
           }
          ],
          "scattercarpet": [
           {
            "marker": {
             "colorbar": {
              "outlinewidth": 0,
              "ticks": ""
             }
            },
            "type": "scattercarpet"
           }
          ],
          "scattergeo": [
           {
            "marker": {
             "colorbar": {
              "outlinewidth": 0,
              "ticks": ""
             }
            },
            "type": "scattergeo"
           }
          ],
          "scattergl": [
           {
            "marker": {
             "colorbar": {
              "outlinewidth": 0,
              "ticks": ""
             }
            },
            "type": "scattergl"
           }
          ],
          "scattermap": [
           {
            "marker": {
             "colorbar": {
              "outlinewidth": 0,
              "ticks": ""
             }
            },
            "type": "scattermap"
           }
          ],
          "scattermapbox": [
           {
            "marker": {
             "colorbar": {
              "outlinewidth": 0,
              "ticks": ""
             }
            },
            "type": "scattermapbox"
           }
          ],
          "scatterpolar": [
           {
            "marker": {
             "colorbar": {
              "outlinewidth": 0,
              "ticks": ""
             }
            },
            "type": "scatterpolar"
           }
          ],
          "scatterpolargl": [
           {
            "marker": {
             "colorbar": {
              "outlinewidth": 0,
              "ticks": ""
             }
            },
            "type": "scatterpolargl"
           }
          ],
          "scatterternary": [
           {
            "marker": {
             "colorbar": {
              "outlinewidth": 0,
              "ticks": ""
             }
            },
            "type": "scatterternary"
           }
          ],
          "surface": [
           {
            "colorbar": {
             "outlinewidth": 0,
             "ticks": ""
            },
            "colorscale": [
             [
              0,
              "#0d0887"
             ],
             [
              0.1111111111111111,
              "#46039f"
             ],
             [
              0.2222222222222222,
              "#7201a8"
             ],
             [
              0.3333333333333333,
              "#9c179e"
             ],
             [
              0.4444444444444444,
              "#bd3786"
             ],
             [
              0.5555555555555556,
              "#d8576b"
             ],
             [
              0.6666666666666666,
              "#ed7953"
             ],
             [
              0.7777777777777778,
              "#fb9f3a"
             ],
             [
              0.8888888888888888,
              "#fdca26"
             ],
             [
              1,
              "#f0f921"
             ]
            ],
            "type": "surface"
           }
          ],
          "table": [
           {
            "cells": {
             "fill": {
              "color": "#EBF0F8"
             },
             "line": {
              "color": "white"
             }
            },
            "header": {
             "fill": {
              "color": "#C8D4E3"
             },
             "line": {
              "color": "white"
             }
            },
            "type": "table"
           }
          ]
         },
         "layout": {
          "annotationdefaults": {
           "arrowcolor": "#2a3f5f",
           "arrowhead": 0,
           "arrowwidth": 1
          },
          "autotypenumbers": "strict",
          "coloraxis": {
           "colorbar": {
            "outlinewidth": 0,
            "ticks": ""
           }
          },
          "colorscale": {
           "diverging": [
            [
             0,
             "#8e0152"
            ],
            [
             0.1,
             "#c51b7d"
            ],
            [
             0.2,
             "#de77ae"
            ],
            [
             0.3,
             "#f1b6da"
            ],
            [
             0.4,
             "#fde0ef"
            ],
            [
             0.5,
             "#f7f7f7"
            ],
            [
             0.6,
             "#e6f5d0"
            ],
            [
             0.7,
             "#b8e186"
            ],
            [
             0.8,
             "#7fbc41"
            ],
            [
             0.9,
             "#4d9221"
            ],
            [
             1,
             "#276419"
            ]
           ],
           "sequential": [
            [
             0,
             "#0d0887"
            ],
            [
             0.1111111111111111,
             "#46039f"
            ],
            [
             0.2222222222222222,
             "#7201a8"
            ],
            [
             0.3333333333333333,
             "#9c179e"
            ],
            [
             0.4444444444444444,
             "#bd3786"
            ],
            [
             0.5555555555555556,
             "#d8576b"
            ],
            [
             0.6666666666666666,
             "#ed7953"
            ],
            [
             0.7777777777777778,
             "#fb9f3a"
            ],
            [
             0.8888888888888888,
             "#fdca26"
            ],
            [
             1,
             "#f0f921"
            ]
           ],
           "sequentialminus": [
            [
             0,
             "#0d0887"
            ],
            [
             0.1111111111111111,
             "#46039f"
            ],
            [
             0.2222222222222222,
             "#7201a8"
            ],
            [
             0.3333333333333333,
             "#9c179e"
            ],
            [
             0.4444444444444444,
             "#bd3786"
            ],
            [
             0.5555555555555556,
             "#d8576b"
            ],
            [
             0.6666666666666666,
             "#ed7953"
            ],
            [
             0.7777777777777778,
             "#fb9f3a"
            ],
            [
             0.8888888888888888,
             "#fdca26"
            ],
            [
             1,
             "#f0f921"
            ]
           ]
          },
          "colorway": [
           "#636efa",
           "#EF553B",
           "#00cc96",
           "#ab63fa",
           "#FFA15A",
           "#19d3f3",
           "#FF6692",
           "#B6E880",
           "#FF97FF",
           "#FECB52"
          ],
          "font": {
           "color": "#2a3f5f"
          },
          "geo": {
           "bgcolor": "white",
           "lakecolor": "white",
           "landcolor": "#E5ECF6",
           "showlakes": true,
           "showland": true,
           "subunitcolor": "white"
          },
          "hoverlabel": {
           "align": "left"
          },
          "hovermode": "closest",
          "mapbox": {
           "style": "light"
          },
          "paper_bgcolor": "white",
          "plot_bgcolor": "#E5ECF6",
          "polar": {
           "angularaxis": {
            "gridcolor": "white",
            "linecolor": "white",
            "ticks": ""
           },
           "bgcolor": "#E5ECF6",
           "radialaxis": {
            "gridcolor": "white",
            "linecolor": "white",
            "ticks": ""
           }
          },
          "scene": {
           "xaxis": {
            "backgroundcolor": "#E5ECF6",
            "gridcolor": "white",
            "gridwidth": 2,
            "linecolor": "white",
            "showbackground": true,
            "ticks": "",
            "zerolinecolor": "white"
           },
           "yaxis": {
            "backgroundcolor": "#E5ECF6",
            "gridcolor": "white",
            "gridwidth": 2,
            "linecolor": "white",
            "showbackground": true,
            "ticks": "",
            "zerolinecolor": "white"
           },
           "zaxis": {
            "backgroundcolor": "#E5ECF6",
            "gridcolor": "white",
            "gridwidth": 2,
            "linecolor": "white",
            "showbackground": true,
            "ticks": "",
            "zerolinecolor": "white"
           }
          },
          "shapedefaults": {
           "line": {
            "color": "#2a3f5f"
           }
          },
          "ternary": {
           "aaxis": {
            "gridcolor": "white",
            "linecolor": "white",
            "ticks": ""
           },
           "baxis": {
            "gridcolor": "white",
            "linecolor": "white",
            "ticks": ""
           },
           "bgcolor": "#E5ECF6",
           "caxis": {
            "gridcolor": "white",
            "linecolor": "white",
            "ticks": ""
           }
          },
          "title": {
           "x": 0.05
          },
          "xaxis": {
           "automargin": true,
           "gridcolor": "white",
           "linecolor": "white",
           "ticks": "",
           "title": {
            "standoff": 15
           },
           "zerolinecolor": "white",
           "zerolinewidth": 2
          },
          "yaxis": {
           "automargin": true,
           "gridcolor": "white",
           "linecolor": "white",
           "ticks": "",
           "title": {
            "standoff": 15
           },
           "zerolinecolor": "white",
           "zerolinewidth": 2
          }
         }
        },
        "title": {
         "text": "Feature Importance"
        },
        "xaxis": {
         "anchor": "y",
         "domain": [
          0,
          1
         ],
         "title": {
          "text": "Gain"
         }
        },
        "yaxis": {
         "anchor": "x",
         "domain": [
          0,
          1
         ],
         "title": {
          "text": "Feature"
         }
        }
       }
      }
     },
     "metadata": {},
     "output_type": "display_data"
    }
   ],
   "source": [
    "import plotly.express as px\n",
    "import pandas as pd\n",
    "\n",
    "# Get Feature Importance\n",
    "importance = model.feature_importance(importance_type='gain')\n",
    "feature_names = X.columns\n",
    "\n",
    "# Create DataFrame\n",
    "importance_df = pd.DataFrame({'Feature': feature_names, 'Importance': importance})\n",
    "\n",
    "# Sort by Importance (Descending)\n",
    "importance_df = importance_df.sort_values(by='Importance', ascending=False)\n",
    "\n",
    "# Plot using Plotly\n",
    "fig = px.bar(\n",
    "    importance_df,\n",
    "    x='Importance',\n",
    "    y='Feature',\n",
    "    orientation='h',\n",
    "    title='Feature Importance',\n",
    "    labels={'Importance': 'Gain'},\n",
    "    height=600\n",
    ")\n",
    "\n",
    "# Show interactive plot\n",
    "fig.show()"
   ]
  },
  {
   "cell_type": "markdown",
   "metadata": {},
   "source": [
    "## Top 20 Feature Importance"
   ]
  },
  {
   "cell_type": "code",
   "execution_count": 22,
   "metadata": {},
   "outputs": [
    {
     "data": {
      "application/vnd.plotly.v1+json": {
       "config": {
        "plotlyServerURL": "https://plot.ly"
       },
       "data": [
        {
         "hovertemplate": "Gain=%{x}<br>Feature=%{y}<extra></extra>",
         "legendgroup": "",
         "marker": {
          "color": "skyblue",
          "pattern": {
           "shape": ""
          }
         },
         "name": "",
         "orientation": "h",
         "showlegend": false,
         "textposition": "auto",
         "type": "bar",
         "x": {
          "bdata": "AACAG8zI0EAAAKA9XIfjQAAAUP/VqOZAAADABOtA7kAAAADJ5mrvQAAAABqiP/BAAAAAYAtf8UAAALAv/gH1QAAAwDkCkPpAAAAovHrE+kAAAJDYZaoDQQAA9GZYqhBBAACYuT1GFEEAAMhGTwoWQQAAgltMJCNBAADGHcraJEEAAAAArFslQQAAG4BzxTFBAADBVs/9PkEAAIPofe1NQQ==",
          "dtype": "f8"
         },
         "xaxis": "x",
         "y": [
          "STA_UTC_hour_of_day",
          "Aircraft Registration",
          "Mode S",
          "STD_UTC_time_of_day_cosine",
          "STD_temp_scaled",
          "Age(years)",
          "STD_UTC_hour_of_day",
          "TO",
          "STD_UTC_day_of_year",
          "Serial Number",
          "STA_UTC_day_of_year",
          "STD_UTC_time_of_year_cosine",
          "STA_UTC_time_of_year_cosine",
          "Operator",
          "Airline Code",
          "Type Code",
          "STD_UTC_week_of_year",
          "STD_dwpt_scaled",
          "FROM",
          "STA_UTC_time_of_day_cosine"
         ],
         "yaxis": "y"
        }
       ],
       "layout": {
        "barmode": "relative",
        "height": 600,
        "legend": {
         "tracegroupgap": 0
        },
        "template": {
         "data": {
          "bar": [
           {
            "error_x": {
             "color": "#2a3f5f"
            },
            "error_y": {
             "color": "#2a3f5f"
            },
            "marker": {
             "line": {
              "color": "#E5ECF6",
              "width": 0.5
             },
             "pattern": {
              "fillmode": "overlay",
              "size": 10,
              "solidity": 0.2
             }
            },
            "type": "bar"
           }
          ],
          "barpolar": [
           {
            "marker": {
             "line": {
              "color": "#E5ECF6",
              "width": 0.5
             },
             "pattern": {
              "fillmode": "overlay",
              "size": 10,
              "solidity": 0.2
             }
            },
            "type": "barpolar"
           }
          ],
          "carpet": [
           {
            "aaxis": {
             "endlinecolor": "#2a3f5f",
             "gridcolor": "white",
             "linecolor": "white",
             "minorgridcolor": "white",
             "startlinecolor": "#2a3f5f"
            },
            "baxis": {
             "endlinecolor": "#2a3f5f",
             "gridcolor": "white",
             "linecolor": "white",
             "minorgridcolor": "white",
             "startlinecolor": "#2a3f5f"
            },
            "type": "carpet"
           }
          ],
          "choropleth": [
           {
            "colorbar": {
             "outlinewidth": 0,
             "ticks": ""
            },
            "type": "choropleth"
           }
          ],
          "contour": [
           {
            "colorbar": {
             "outlinewidth": 0,
             "ticks": ""
            },
            "colorscale": [
             [
              0,
              "#0d0887"
             ],
             [
              0.1111111111111111,
              "#46039f"
             ],
             [
              0.2222222222222222,
              "#7201a8"
             ],
             [
              0.3333333333333333,
              "#9c179e"
             ],
             [
              0.4444444444444444,
              "#bd3786"
             ],
             [
              0.5555555555555556,
              "#d8576b"
             ],
             [
              0.6666666666666666,
              "#ed7953"
             ],
             [
              0.7777777777777778,
              "#fb9f3a"
             ],
             [
              0.8888888888888888,
              "#fdca26"
             ],
             [
              1,
              "#f0f921"
             ]
            ],
            "type": "contour"
           }
          ],
          "contourcarpet": [
           {
            "colorbar": {
             "outlinewidth": 0,
             "ticks": ""
            },
            "type": "contourcarpet"
           }
          ],
          "heatmap": [
           {
            "colorbar": {
             "outlinewidth": 0,
             "ticks": ""
            },
            "colorscale": [
             [
              0,
              "#0d0887"
             ],
             [
              0.1111111111111111,
              "#46039f"
             ],
             [
              0.2222222222222222,
              "#7201a8"
             ],
             [
              0.3333333333333333,
              "#9c179e"
             ],
             [
              0.4444444444444444,
              "#bd3786"
             ],
             [
              0.5555555555555556,
              "#d8576b"
             ],
             [
              0.6666666666666666,
              "#ed7953"
             ],
             [
              0.7777777777777778,
              "#fb9f3a"
             ],
             [
              0.8888888888888888,
              "#fdca26"
             ],
             [
              1,
              "#f0f921"
             ]
            ],
            "type": "heatmap"
           }
          ],
          "histogram": [
           {
            "marker": {
             "pattern": {
              "fillmode": "overlay",
              "size": 10,
              "solidity": 0.2
             }
            },
            "type": "histogram"
           }
          ],
          "histogram2d": [
           {
            "colorbar": {
             "outlinewidth": 0,
             "ticks": ""
            },
            "colorscale": [
             [
              0,
              "#0d0887"
             ],
             [
              0.1111111111111111,
              "#46039f"
             ],
             [
              0.2222222222222222,
              "#7201a8"
             ],
             [
              0.3333333333333333,
              "#9c179e"
             ],
             [
              0.4444444444444444,
              "#bd3786"
             ],
             [
              0.5555555555555556,
              "#d8576b"
             ],
             [
              0.6666666666666666,
              "#ed7953"
             ],
             [
              0.7777777777777778,
              "#fb9f3a"
             ],
             [
              0.8888888888888888,
              "#fdca26"
             ],
             [
              1,
              "#f0f921"
             ]
            ],
            "type": "histogram2d"
           }
          ],
          "histogram2dcontour": [
           {
            "colorbar": {
             "outlinewidth": 0,
             "ticks": ""
            },
            "colorscale": [
             [
              0,
              "#0d0887"
             ],
             [
              0.1111111111111111,
              "#46039f"
             ],
             [
              0.2222222222222222,
              "#7201a8"
             ],
             [
              0.3333333333333333,
              "#9c179e"
             ],
             [
              0.4444444444444444,
              "#bd3786"
             ],
             [
              0.5555555555555556,
              "#d8576b"
             ],
             [
              0.6666666666666666,
              "#ed7953"
             ],
             [
              0.7777777777777778,
              "#fb9f3a"
             ],
             [
              0.8888888888888888,
              "#fdca26"
             ],
             [
              1,
              "#f0f921"
             ]
            ],
            "type": "histogram2dcontour"
           }
          ],
          "mesh3d": [
           {
            "colorbar": {
             "outlinewidth": 0,
             "ticks": ""
            },
            "type": "mesh3d"
           }
          ],
          "parcoords": [
           {
            "line": {
             "colorbar": {
              "outlinewidth": 0,
              "ticks": ""
             }
            },
            "type": "parcoords"
           }
          ],
          "pie": [
           {
            "automargin": true,
            "type": "pie"
           }
          ],
          "scatter": [
           {
            "fillpattern": {
             "fillmode": "overlay",
             "size": 10,
             "solidity": 0.2
            },
            "type": "scatter"
           }
          ],
          "scatter3d": [
           {
            "line": {
             "colorbar": {
              "outlinewidth": 0,
              "ticks": ""
             }
            },
            "marker": {
             "colorbar": {
              "outlinewidth": 0,
              "ticks": ""
             }
            },
            "type": "scatter3d"
           }
          ],
          "scattercarpet": [
           {
            "marker": {
             "colorbar": {
              "outlinewidth": 0,
              "ticks": ""
             }
            },
            "type": "scattercarpet"
           }
          ],
          "scattergeo": [
           {
            "marker": {
             "colorbar": {
              "outlinewidth": 0,
              "ticks": ""
             }
            },
            "type": "scattergeo"
           }
          ],
          "scattergl": [
           {
            "marker": {
             "colorbar": {
              "outlinewidth": 0,
              "ticks": ""
             }
            },
            "type": "scattergl"
           }
          ],
          "scattermap": [
           {
            "marker": {
             "colorbar": {
              "outlinewidth": 0,
              "ticks": ""
             }
            },
            "type": "scattermap"
           }
          ],
          "scattermapbox": [
           {
            "marker": {
             "colorbar": {
              "outlinewidth": 0,
              "ticks": ""
             }
            },
            "type": "scattermapbox"
           }
          ],
          "scatterpolar": [
           {
            "marker": {
             "colorbar": {
              "outlinewidth": 0,
              "ticks": ""
             }
            },
            "type": "scatterpolar"
           }
          ],
          "scatterpolargl": [
           {
            "marker": {
             "colorbar": {
              "outlinewidth": 0,
              "ticks": ""
             }
            },
            "type": "scatterpolargl"
           }
          ],
          "scatterternary": [
           {
            "marker": {
             "colorbar": {
              "outlinewidth": 0,
              "ticks": ""
             }
            },
            "type": "scatterternary"
           }
          ],
          "surface": [
           {
            "colorbar": {
             "outlinewidth": 0,
             "ticks": ""
            },
            "colorscale": [
             [
              0,
              "#0d0887"
             ],
             [
              0.1111111111111111,
              "#46039f"
             ],
             [
              0.2222222222222222,
              "#7201a8"
             ],
             [
              0.3333333333333333,
              "#9c179e"
             ],
             [
              0.4444444444444444,
              "#bd3786"
             ],
             [
              0.5555555555555556,
              "#d8576b"
             ],
             [
              0.6666666666666666,
              "#ed7953"
             ],
             [
              0.7777777777777778,
              "#fb9f3a"
             ],
             [
              0.8888888888888888,
              "#fdca26"
             ],
             [
              1,
              "#f0f921"
             ]
            ],
            "type": "surface"
           }
          ],
          "table": [
           {
            "cells": {
             "fill": {
              "color": "#EBF0F8"
             },
             "line": {
              "color": "white"
             }
            },
            "header": {
             "fill": {
              "color": "#C8D4E3"
             },
             "line": {
              "color": "white"
             }
            },
            "type": "table"
           }
          ]
         },
         "layout": {
          "annotationdefaults": {
           "arrowcolor": "#2a3f5f",
           "arrowhead": 0,
           "arrowwidth": 1
          },
          "autotypenumbers": "strict",
          "coloraxis": {
           "colorbar": {
            "outlinewidth": 0,
            "ticks": ""
           }
          },
          "colorscale": {
           "diverging": [
            [
             0,
             "#8e0152"
            ],
            [
             0.1,
             "#c51b7d"
            ],
            [
             0.2,
             "#de77ae"
            ],
            [
             0.3,
             "#f1b6da"
            ],
            [
             0.4,
             "#fde0ef"
            ],
            [
             0.5,
             "#f7f7f7"
            ],
            [
             0.6,
             "#e6f5d0"
            ],
            [
             0.7,
             "#b8e186"
            ],
            [
             0.8,
             "#7fbc41"
            ],
            [
             0.9,
             "#4d9221"
            ],
            [
             1,
             "#276419"
            ]
           ],
           "sequential": [
            [
             0,
             "#0d0887"
            ],
            [
             0.1111111111111111,
             "#46039f"
            ],
            [
             0.2222222222222222,
             "#7201a8"
            ],
            [
             0.3333333333333333,
             "#9c179e"
            ],
            [
             0.4444444444444444,
             "#bd3786"
            ],
            [
             0.5555555555555556,
             "#d8576b"
            ],
            [
             0.6666666666666666,
             "#ed7953"
            ],
            [
             0.7777777777777778,
             "#fb9f3a"
            ],
            [
             0.8888888888888888,
             "#fdca26"
            ],
            [
             1,
             "#f0f921"
            ]
           ],
           "sequentialminus": [
            [
             0,
             "#0d0887"
            ],
            [
             0.1111111111111111,
             "#46039f"
            ],
            [
             0.2222222222222222,
             "#7201a8"
            ],
            [
             0.3333333333333333,
             "#9c179e"
            ],
            [
             0.4444444444444444,
             "#bd3786"
            ],
            [
             0.5555555555555556,
             "#d8576b"
            ],
            [
             0.6666666666666666,
             "#ed7953"
            ],
            [
             0.7777777777777778,
             "#fb9f3a"
            ],
            [
             0.8888888888888888,
             "#fdca26"
            ],
            [
             1,
             "#f0f921"
            ]
           ]
          },
          "colorway": [
           "#636efa",
           "#EF553B",
           "#00cc96",
           "#ab63fa",
           "#FFA15A",
           "#19d3f3",
           "#FF6692",
           "#B6E880",
           "#FF97FF",
           "#FECB52"
          ],
          "font": {
           "color": "#2a3f5f"
          },
          "geo": {
           "bgcolor": "white",
           "lakecolor": "white",
           "landcolor": "#E5ECF6",
           "showlakes": true,
           "showland": true,
           "subunitcolor": "white"
          },
          "hoverlabel": {
           "align": "left"
          },
          "hovermode": "closest",
          "mapbox": {
           "style": "light"
          },
          "paper_bgcolor": "white",
          "plot_bgcolor": "#E5ECF6",
          "polar": {
           "angularaxis": {
            "gridcolor": "white",
            "linecolor": "white",
            "ticks": ""
           },
           "bgcolor": "#E5ECF6",
           "radialaxis": {
            "gridcolor": "white",
            "linecolor": "white",
            "ticks": ""
           }
          },
          "scene": {
           "xaxis": {
            "backgroundcolor": "#E5ECF6",
            "gridcolor": "white",
            "gridwidth": 2,
            "linecolor": "white",
            "showbackground": true,
            "ticks": "",
            "zerolinecolor": "white"
           },
           "yaxis": {
            "backgroundcolor": "#E5ECF6",
            "gridcolor": "white",
            "gridwidth": 2,
            "linecolor": "white",
            "showbackground": true,
            "ticks": "",
            "zerolinecolor": "white"
           },
           "zaxis": {
            "backgroundcolor": "#E5ECF6",
            "gridcolor": "white",
            "gridwidth": 2,
            "linecolor": "white",
            "showbackground": true,
            "ticks": "",
            "zerolinecolor": "white"
           }
          },
          "shapedefaults": {
           "line": {
            "color": "#2a3f5f"
           }
          },
          "ternary": {
           "aaxis": {
            "gridcolor": "white",
            "linecolor": "white",
            "ticks": ""
           },
           "baxis": {
            "gridcolor": "white",
            "linecolor": "white",
            "ticks": ""
           },
           "bgcolor": "#E5ECF6",
           "caxis": {
            "gridcolor": "white",
            "linecolor": "white",
            "ticks": ""
           }
          },
          "title": {
           "x": 0.05
          },
          "xaxis": {
           "automargin": true,
           "gridcolor": "white",
           "linecolor": "white",
           "ticks": "",
           "title": {
            "standoff": 15
           },
           "zerolinecolor": "white",
           "zerolinewidth": 2
          },
          "yaxis": {
           "automargin": true,
           "gridcolor": "white",
           "linecolor": "white",
           "ticks": "",
           "title": {
            "standoff": 15
           },
           "zerolinecolor": "white",
           "zerolinewidth": 2
          }
         }
        },
        "title": {
         "text": "Top 20 Feature Importance"
        },
        "xaxis": {
         "anchor": "y",
         "domain": [
          0,
          1
         ],
         "gridcolor": "lightgray",
         "gridwidth": 0.5,
         "title": {
          "text": "Gain"
         }
        },
        "yaxis": {
         "anchor": "x",
         "domain": [
          0,
          1
         ],
         "title": {
          "text": "Feature"
         }
        }
       }
      }
     },
     "metadata": {},
     "output_type": "display_data"
    }
   ],
   "source": [
    "import plotly.express as px\n",
    "import pandas as pd\n",
    "import numpy as np\n",
    "\n",
    "# Get Feature Importance\n",
    "importance = model.feature_importance(importance_type='gain')\n",
    "feature_names = X.columns\n",
    "\n",
    "# Get indices of top 20 most important features\n",
    "top_n = 20\n",
    "sorted_indices = np.argsort(importance)[-top_n:]  # Get indices of top 20 features\n",
    "\n",
    "# Sort features and importance scores by importance\n",
    "top_feature_names = np.array(feature_names)[sorted_indices]\n",
    "top_importance_scores = np.array(importance)[sorted_indices]\n",
    "\n",
    "# Create DataFrame\n",
    "importance_df = pd.DataFrame({\n",
    "    'Feature': top_feature_names,\n",
    "    'Importance': top_importance_scores\n",
    "})\n",
    "\n",
    "# Sort by Importance (Descending)\n",
    "importance_df = importance_df.sort_values(by='Importance', ascending=True)\n",
    "\n",
    "# Plot using Plotly\n",
    "fig = px.bar(\n",
    "    importance_df,\n",
    "    x='Importance',\n",
    "    y='Feature',\n",
    "    orientation='h',\n",
    "    title='Top 20 Feature Importance',\n",
    "    labels={'Importance': 'Gain'},\n",
    "    height=600\n",
    ")\n",
    "\n",
    "# Customize layout\n",
    "fig.update_traces(marker_color='skyblue')\n",
    "fig.update_layout(xaxis_gridcolor='lightgray', xaxis_gridwidth=0.5)\n",
    "\n",
    "# Show interactive plot\n",
    "fig.show()"
   ]
  },
  {
   "cell_type": "markdown",
   "metadata": {},
   "source": [
    "## Predicting"
   ]
  },
  {
   "cell_type": "code",
   "execution_count": null,
   "metadata": {},
   "outputs": [],
   "source": [
    "# Predicting on the dataset\n",
    "X = df.drop(columns=[\"Departure_Status\"])\n",
    "y = df[\"Departure_Status\"].astype('category').cat.codes\n",
    "catFeat = X.select_dtypes(include='category').columns.tolist()\n",
    "\n",
    "# Ensure categorical features are treated correctly\n",
    "for col in catFeat:\n",
    "    X[col] = X[col].astype('category')\n",
    "\n",
    "# Make predictions\n",
    "y_pred = model.predict(X)\n",
    "\n",
    "# Convert probabilities to class labels\n",
    "y_pred_labels = y_pred.argmax(axis=1)  # Takes the index of the max probability class\n",
    "\n",
    "# Add predictions to the dataframe\n",
    "df[\"Predicted_Departure_Status\"] = y_pred_labels"
   ]
  },
  {
   "cell_type": "code",
   "execution_count": null,
   "metadata": {},
   "outputs": [
    {
     "name": "stdout",
     "output_type": "stream",
     "text": [
      "Predicted_Departure_Status\n",
      "1    11479658\n",
      "2      147484\n",
      "0       42645\n",
      "Name: count, dtype: int64\n"
     ]
    }
   ],
   "source": [
    "# Count occurrences of each unique value in the \"Predicted_Departure_Status\" column\n",
    "unique_value_counts = df[\"Predicted_Departure_Status\"].value_counts()\n",
    "\n",
    "# Display the result\n",
    "print(unique_value_counts)\n",
    "## 1 Departure Delayed\n",
    "## 2 Departure On Time\n",
    "## 3 Cancelled\n"
   ]
  },
  {
   "cell_type": "code",
   "execution_count": null,
   "metadata": {},
   "outputs": [
    {
     "name": "stdout",
     "output_type": "stream",
     "text": [
      "Departure_Status\n",
      "Departure Delayed    10611222\n",
      "Departure On Time     1006930\n",
      "Cancelled               51635\n",
      "Name: count, dtype: int64\n"
     ]
    }
   ],
   "source": [
    "unique_value_counts = df[\"Departure_Status\"].value_counts()\n",
    "print(unique_value_counts)\n"
   ]
  },
  {
   "cell_type": "code",
   "execution_count": null,
   "metadata": {},
   "outputs": [],
   "source": [
    "df = pd.read_parquet(\"../data.parquet\")\n",
    "df[\"Predicted_Departure_Status\"] = y_pred_labels\n",
    "output_file_path = \"updated_file.parquet\"  \n",
    "df.to_parquet(output_file_path, index=False)"
   ]
  },
  {
   "cell_type": "code",
   "execution_count": null,
   "metadata": {},
   "outputs": [
    {
     "name": "stdout",
     "output_type": "stream",
     "text": [
      "68\n"
     ]
    }
   ],
   "source": [
    "import pandas as pd\n",
    "df=pd.read_parquet(\"updated_file.parquet\")\n",
    "df.columns\n",
    "print(len(df.columns))"
   ]
  },
  {
   "cell_type": "code",
   "execution_count": null,
   "metadata": {},
   "outputs": [
    {
     "name": "stdout",
     "output_type": "stream",
     "text": [
      "67\n"
     ]
    }
   ],
   "source": [
    "df=pd.read_parquet(\"../data.parquet\")\n",
    "df.columns\n",
    "print(len(df.columns))"
   ]
  }
 ],
 "metadata": {
  "kernelspec": {
   "display_name": ".venv",
   "language": "python",
   "name": "python3"
  },
  "language_info": {
   "codemirror_mode": {
    "name": "ipython",
    "version": 3
   },
   "file_extension": ".py",
   "mimetype": "text/x-python",
   "name": "python",
   "nbconvert_exporter": "python",
   "pygments_lexer": "ipython3",
   "version": "3.12.7"
  }
 },
 "nbformat": 4,
 "nbformat_minor": 2
}
